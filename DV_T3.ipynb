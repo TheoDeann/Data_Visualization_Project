{
  "cells": [
    {
      "cell_type": "code",
      "execution_count": 1,
      "metadata": {
        "colab": {
          "base_uri": "https://localhost:8080/",
          "height": 36
        },
        "id": "CNLE1Yc53pJD",
        "outputId": "84e81392-aad0-4907-f9af-98bb3fbd5cc5"
      },
      "outputs": [
        {
          "data": {
            "application/javascript": "(function(root) {\n  function now() {\n    return new Date();\n  }\n\n  var force = true;\n\n  if (typeof root._bokeh_onload_callbacks === \"undefined\" || force === true) {\n    root._bokeh_onload_callbacks = [];\n    root._bokeh_is_loading = undefined;\n  }\n\n  if (typeof (root._bokeh_timeout) === \"undefined\" || force === true) {\n    root._bokeh_timeout = Date.now() + 5000;\n    root._bokeh_failed_load = false;\n  }\n\n  function run_callbacks() {\n    try {\n      root._bokeh_onload_callbacks.forEach(function(callback) {\n        if (callback != null)\n          callback();\n      });\n    } finally {\n      delete root._bokeh_onload_callbacks\n    }\n    console.debug(\"Bokeh: all callbacks have finished\");\n  }\n\n  function load_libs(css_urls, js_urls, js_modules, callback) {\n    if (css_urls == null) css_urls = [];\n    if (js_urls == null) js_urls = [];\n    if (js_modules == null) js_modules = [];\n\n    root._bokeh_onload_callbacks.push(callback);\n    if (root._bokeh_is_loading > 0) {\n      console.debug(\"Bokeh: BokehJS is being loaded, scheduling callback at\", now());\n      return null;\n    }\n    if (js_urls.length === 0 && js_modules.length === 0) {\n      run_callbacks();\n      return null;\n    }\n    console.debug(\"Bokeh: BokehJS not loaded, scheduling load and callback at\", now());\n\n    function on_load() {\n      root._bokeh_is_loading--;\n      if (root._bokeh_is_loading === 0) {\n        console.debug(\"Bokeh: all BokehJS libraries/stylesheets loaded\");\n        run_callbacks()\n      }\n    }\n\n    function on_error() {\n      console.error(\"failed to load \" + url);\n    }\n\n    for (var i = 0; i < css_urls.length; i++) {\n      var url = css_urls[i];\n      const element = document.createElement(\"link\");\n      element.onload = on_load;\n      element.onerror = on_error;\n      element.rel = \"stylesheet\";\n      element.type = \"text/css\";\n      element.href = url;\n      console.debug(\"Bokeh: injecting link tag for BokehJS stylesheet: \", url);\n      document.body.appendChild(element);\n    }\n\n    var skip = [];\n    if (window.requirejs) {\n      window.requirejs.config({'packages': {}, 'paths': {'vega-embed': 'https://cdn.jsdelivr.net/npm/vega-embed@6/build/vega-embed.min', 'vega-lite': 'https://cdn.jsdelivr.net/npm/vega-lite@5/build/vega-lite.min', 'vega': 'https://cdn.jsdelivr.net/npm/vega@5/build/vega.min', 'gridstack': 'https://cdn.jsdelivr.net/npm/gridstack@4.2.5/dist/gridstack-h5', 'notyf': 'https://cdn.jsdelivr.net/npm/notyf@3/notyf.min'}, 'shim': {'gridstack': {'exports': 'GridStack'}}});\n      require([\"vega-embed\"], function(vegaEmbed) {\n\twindow.vegaEmbed = vegaEmbed\n\ton_load()\n      })\n      require([\"vega-lite\"], function(vl) {\n\twindow.vl = vl\n\ton_load()\n      })\n      require([\"vega\"], function(vega) {\n\twindow.vega = vega\n\ton_load()\n      })\n      require([\"gridstack\"], function(GridStack) {\n\twindow.GridStack = GridStack\n\ton_load()\n      })\n      require([\"notyf\"], function() {\n\ton_load()\n      })\n      root._bokeh_is_loading = css_urls.length + 5;\n    } else {\n      root._bokeh_is_loading = css_urls.length + js_urls.length + js_modules.length;\n    }    if (((window['vega'] !== undefined) && (!(window['vega'] instanceof HTMLElement))) || window.requirejs) {\n      var urls = ['https://cdn.holoviz.org/panel/0.14.2/dist/bundled/vegaplot/vega@5'];\n      for (var i = 0; i < urls.length; i++) {\n        skip.push(urls[i])\n      }\n    }    if (((window['vegaLite'] !== undefined) && (!(window['vegaLite'] instanceof HTMLElement))) || window.requirejs) {\n      var urls = ['https://cdn.holoviz.org/panel/0.14.2/dist/bundled/vegaplot/vega-lite@5'];\n      for (var i = 0; i < urls.length; i++) {\n        skip.push(urls[i])\n      }\n    }    if (((window['vegaEmbed'] !== undefined) && (!(window['vegaEmbed'] instanceof HTMLElement))) || window.requirejs) {\n      var urls = ['https://cdn.holoviz.org/panel/0.14.2/dist/bundled/vegaplot/vega-embed@6'];\n      for (var i = 0; i < urls.length; i++) {\n        skip.push(urls[i])\n      }\n    }    if (((window['GridStack'] !== undefined) && (!(window['GridStack'] instanceof HTMLElement))) || window.requirejs) {\n      var urls = ['https://cdn.holoviz.org/panel/0.14.2/dist/bundled/gridstack/gridstack@4.2.5/dist/gridstack-h5.js'];\n      for (var i = 0; i < urls.length; i++) {\n        skip.push(urls[i])\n      }\n    }    if (((window['Notyf'] !== undefined) && (!(window['Notyf'] instanceof HTMLElement))) || window.requirejs) {\n      var urls = ['https://cdn.holoviz.org/panel/0.14.2/dist/bundled/notificationarea/notyf@3/notyf.min.js'];\n      for (var i = 0; i < urls.length; i++) {\n        skip.push(urls[i])\n      }\n    }    for (var i = 0; i < js_urls.length; i++) {\n      var url = js_urls[i];\n      if (skip.indexOf(url) >= 0) {\n\tif (!window.requirejs) {\n\t  on_load();\n\t}\n\tcontinue;\n      }\n      var element = document.createElement('script');\n      element.onload = on_load;\n      element.onerror = on_error;\n      element.async = false;\n      element.src = url;\n      console.debug(\"Bokeh: injecting script tag for BokehJS library: \", url);\n      document.head.appendChild(element);\n    }\n    for (var i = 0; i < js_modules.length; i++) {\n      var url = js_modules[i];\n      if (skip.indexOf(url) >= 0) {\n\tif (!window.requirejs) {\n\t  on_load();\n\t}\n\tcontinue;\n      }\n      var element = document.createElement('script');\n      element.onload = on_load;\n      element.onerror = on_error;\n      element.async = false;\n      element.src = url;\n      element.type = \"module\";\n      console.debug(\"Bokeh: injecting script tag for BokehJS library: \", url);\n      document.head.appendChild(element);\n    }\n    if (!js_urls.length && !js_modules.length) {\n      on_load()\n    }\n  };\n\n  function inject_raw_css(css) {\n    const element = document.createElement(\"style\");\n    element.appendChild(document.createTextNode(css));\n    document.body.appendChild(element);\n  }\n\n  var js_urls = [\"https://cdn.holoviz.org/panel/0.14.2/dist/bundled/vegaplot/vega@5\", \"https://cdn.holoviz.org/panel/0.14.2/dist/bundled/vegaplot/vega-lite@5\", \"https://cdn.holoviz.org/panel/0.14.2/dist/bundled/vegaplot/vega-embed@6\", \"https://cdn.bokeh.org/bokeh/release/bokeh-2.4.3.min.js\", \"https://cdn.bokeh.org/bokeh/release/bokeh-gl-2.4.3.min.js\", \"https://cdn.bokeh.org/bokeh/release/bokeh-widgets-2.4.3.min.js\", \"https://cdn.bokeh.org/bokeh/release/bokeh-tables-2.4.3.min.js\", \"https://cdn.bokeh.org/bokeh/release/bokeh-mathjax-2.4.3.min.js\", \"https://unpkg.com/@holoviz/panel@0.14.2/dist/panel.min.js\"];\n  var js_modules = [];\n  var css_urls = [\"https://cdn.holoviz.org/panel/0.14.2/dist/css/debugger.css\", \"https://cdn.holoviz.org/panel/0.14.2/dist/css/alerts.css\", \"https://cdn.holoviz.org/panel/0.14.2/dist/css/card.css\", \"https://cdn.holoviz.org/panel/0.14.2/dist/css/widgets.css\", \"https://cdn.holoviz.org/panel/0.14.2/dist/css/markdown.css\", \"https://cdn.holoviz.org/panel/0.14.2/dist/css/json.css\", \"https://cdn.holoviz.org/panel/0.14.2/dist/css/loading.css\", \"https://cdn.holoviz.org/panel/0.14.2/dist/css/dataframe.css\"];\n  var inline_js = [    function(Bokeh) {\n      inject_raw_css(\"\\n    .bk.pn-loading.arc:before {\\n      background-image: url(\\\"data:image/svg+xml;base64,PHN2ZyB4bWxucz0iaHR0cDovL3d3dy53My5vcmcvMjAwMC9zdmciIHN0eWxlPSJtYXJnaW46IGF1dG87IGJhY2tncm91bmQ6IG5vbmU7IGRpc3BsYXk6IGJsb2NrOyBzaGFwZS1yZW5kZXJpbmc6IGF1dG87IiB2aWV3Qm94PSIwIDAgMTAwIDEwMCIgcHJlc2VydmVBc3BlY3RSYXRpbz0ieE1pZFlNaWQiPiAgPGNpcmNsZSBjeD0iNTAiIGN5PSI1MCIgZmlsbD0ibm9uZSIgc3Ryb2tlPSIjYzNjM2MzIiBzdHJva2Utd2lkdGg9IjEwIiByPSIzNSIgc3Ryb2tlLWRhc2hhcnJheT0iMTY0LjkzMzYxNDMxMzQ2NDE1IDU2Ljk3Nzg3MTQzNzgyMTM4Ij4gICAgPGFuaW1hdGVUcmFuc2Zvcm0gYXR0cmlidXRlTmFtZT0idHJhbnNmb3JtIiB0eXBlPSJyb3RhdGUiIHJlcGVhdENvdW50PSJpbmRlZmluaXRlIiBkdXI9IjFzIiB2YWx1ZXM9IjAgNTAgNTA7MzYwIDUwIDUwIiBrZXlUaW1lcz0iMDsxIj48L2FuaW1hdGVUcmFuc2Zvcm0+ICA8L2NpcmNsZT48L3N2Zz4=\\\");\\n      background-size: auto calc(min(50%, 400px));\\n    }\\n    \");\n    },    function(Bokeh) {\n      Bokeh.set_log_level(\"info\");\n    },\nfunction(Bokeh) {} // ensure no trailing comma for IE\n  ];\n\n  function run_inline_js() {\n    if ((root.Bokeh !== undefined) || (force === true)) {\n      for (var i = 0; i < inline_js.length; i++) {\n        inline_js[i].call(root, root.Bokeh);\n      }} else if (Date.now() < root._bokeh_timeout) {\n      setTimeout(run_inline_js, 100);\n    } else if (!root._bokeh_failed_load) {\n      console.log(\"Bokeh: BokehJS failed to load within specified timeout.\");\n      root._bokeh_failed_load = true;\n    }\n  }\n\n  if (root._bokeh_is_loading === 0) {\n    console.debug(\"Bokeh: BokehJS loaded, going straight to plotting\");\n    run_inline_js();\n  } else {\n    load_libs(css_urls, js_urls, js_modules, function() {\n      console.debug(\"Bokeh: BokehJS plotting callback run at\", now());\n      run_inline_js();\n    });\n  }\n}(window));",
            "application/vnd.holoviews_load.v0+json": ""
          },
          "metadata": {},
          "output_type": "display_data"
        },
        {
          "data": {
            "application/javascript": "\nif ((window.PyViz === undefined) || (window.PyViz instanceof HTMLElement)) {\n  window.PyViz = {comms: {}, comm_status:{}, kernels:{}, receivers: {}, plot_index: []}\n}\n\n\n    function JupyterCommManager() {\n    }\n\n    JupyterCommManager.prototype.register_target = function(plot_id, comm_id, msg_handler) {\n      if (window.comm_manager || ((window.Jupyter !== undefined) && (Jupyter.notebook.kernel != null))) {\n        var comm_manager = window.comm_manager || Jupyter.notebook.kernel.comm_manager;\n        comm_manager.register_target(comm_id, function(comm) {\n          comm.on_msg(msg_handler);\n        });\n      } else if ((plot_id in window.PyViz.kernels) && (window.PyViz.kernels[plot_id])) {\n        window.PyViz.kernels[plot_id].registerCommTarget(comm_id, function(comm) {\n          comm.onMsg = msg_handler;\n        });\n      } else if (typeof google != 'undefined' && google.colab.kernel != null) {\n        google.colab.kernel.comms.registerTarget(comm_id, (comm) => {\n          var messages = comm.messages[Symbol.asyncIterator]();\n          function processIteratorResult(result) {\n            var message = result.value;\n            console.log(message)\n            var content = {data: message.data, comm_id};\n            var buffers = []\n            for (var buffer of message.buffers || []) {\n              buffers.push(new DataView(buffer))\n            }\n            var metadata = message.metadata || {};\n            var msg = {content, buffers, metadata}\n            msg_handler(msg);\n            return messages.next().then(processIteratorResult);\n          }\n          return messages.next().then(processIteratorResult);\n        })\n      }\n    }\n\n    JupyterCommManager.prototype.get_client_comm = function(plot_id, comm_id, msg_handler) {\n      if (comm_id in window.PyViz.comms) {\n        return window.PyViz.comms[comm_id];\n      } else if (window.comm_manager || ((window.Jupyter !== undefined) && (Jupyter.notebook.kernel != null))) {\n        var comm_manager = window.comm_manager || Jupyter.notebook.kernel.comm_manager;\n        var comm = comm_manager.new_comm(comm_id, {}, {}, {}, comm_id);\n        if (msg_handler) {\n          comm.on_msg(msg_handler);\n        }\n      } else if ((plot_id in window.PyViz.kernels) && (window.PyViz.kernels[plot_id])) {\n        var comm = window.PyViz.kernels[plot_id].connectToComm(comm_id);\n        comm.open();\n        if (msg_handler) {\n          comm.onMsg = msg_handler;\n        }\n      } else if (typeof google != 'undefined' && google.colab.kernel != null) {\n        var comm_promise = google.colab.kernel.comms.open(comm_id)\n        comm_promise.then((comm) => {\n          window.PyViz.comms[comm_id] = comm;\n          if (msg_handler) {\n            var messages = comm.messages[Symbol.asyncIterator]();\n            function processIteratorResult(result) {\n              var message = result.value;\n              var content = {data: message.data};\n              var metadata = message.metadata || {comm_id};\n              var msg = {content, metadata}\n              msg_handler(msg);\n              return messages.next().then(processIteratorResult);\n            }\n            return messages.next().then(processIteratorResult);\n          }\n        }) \n        var sendClosure = (data, metadata, buffers, disposeOnDone) => {\n          return comm_promise.then((comm) => {\n            comm.send(data, metadata, buffers, disposeOnDone);\n          });\n        };\n        var comm = {\n          send: sendClosure\n        };\n      }\n      window.PyViz.comms[comm_id] = comm;\n      return comm;\n    }\n    window.PyViz.comm_manager = new JupyterCommManager();\n    \n\n\nvar JS_MIME_TYPE = 'application/javascript';\nvar HTML_MIME_TYPE = 'text/html';\nvar EXEC_MIME_TYPE = 'application/vnd.holoviews_exec.v0+json';\nvar CLASS_NAME = 'output';\n\n/**\n * Render data to the DOM node\n */\nfunction render(props, node) {\n  var div = document.createElement(\"div\");\n  var script = document.createElement(\"script\");\n  node.appendChild(div);\n  node.appendChild(script);\n}\n\n/**\n * Handle when a new output is added\n */\nfunction handle_add_output(event, handle) {\n  var output_area = handle.output_area;\n  var output = handle.output;\n  if ((output.data == undefined) || (!output.data.hasOwnProperty(EXEC_MIME_TYPE))) {\n    return\n  }\n  var id = output.metadata[EXEC_MIME_TYPE][\"id\"];\n  var toinsert = output_area.element.find(\".\" + CLASS_NAME.split(' ')[0]);\n  if (id !== undefined) {\n    var nchildren = toinsert.length;\n    var html_node = toinsert[nchildren-1].children[0];\n    html_node.innerHTML = output.data[HTML_MIME_TYPE];\n    var scripts = [];\n    var nodelist = html_node.querySelectorAll(\"script\");\n    for (var i in nodelist) {\n      if (nodelist.hasOwnProperty(i)) {\n        scripts.push(nodelist[i])\n      }\n    }\n\n    scripts.forEach( function (oldScript) {\n      var newScript = document.createElement(\"script\");\n      var attrs = [];\n      var nodemap = oldScript.attributes;\n      for (var j in nodemap) {\n        if (nodemap.hasOwnProperty(j)) {\n          attrs.push(nodemap[j])\n        }\n      }\n      attrs.forEach(function(attr) { newScript.setAttribute(attr.name, attr.value) });\n      newScript.appendChild(document.createTextNode(oldScript.innerHTML));\n      oldScript.parentNode.replaceChild(newScript, oldScript);\n    });\n    if (JS_MIME_TYPE in output.data) {\n      toinsert[nchildren-1].children[1].textContent = output.data[JS_MIME_TYPE];\n    }\n    output_area._hv_plot_id = id;\n    if ((window.Bokeh !== undefined) && (id in Bokeh.index)) {\n      window.PyViz.plot_index[id] = Bokeh.index[id];\n    } else {\n      window.PyViz.plot_index[id] = null;\n    }\n  } else if (output.metadata[EXEC_MIME_TYPE][\"server_id\"] !== undefined) {\n    var bk_div = document.createElement(\"div\");\n    bk_div.innerHTML = output.data[HTML_MIME_TYPE];\n    var script_attrs = bk_div.children[0].attributes;\n    for (var i = 0; i < script_attrs.length; i++) {\n      toinsert[toinsert.length - 1].childNodes[1].setAttribute(script_attrs[i].name, script_attrs[i].value);\n    }\n    // store reference to server id on output_area\n    output_area._bokeh_server_id = output.metadata[EXEC_MIME_TYPE][\"server_id\"];\n  }\n}\n\n/**\n * Handle when an output is cleared or removed\n */\nfunction handle_clear_output(event, handle) {\n  var id = handle.cell.output_area._hv_plot_id;\n  var server_id = handle.cell.output_area._bokeh_server_id;\n  if (((id === undefined) || !(id in PyViz.plot_index)) && (server_id !== undefined)) { return; }\n  var comm = window.PyViz.comm_manager.get_client_comm(\"hv-extension-comm\", \"hv-extension-comm\", function () {});\n  if (server_id !== null) {\n    comm.send({event_type: 'server_delete', 'id': server_id});\n    return;\n  } else if (comm !== null) {\n    comm.send({event_type: 'delete', 'id': id});\n  }\n  delete PyViz.plot_index[id];\n  if ((window.Bokeh !== undefined) & (id in window.Bokeh.index)) {\n    var doc = window.Bokeh.index[id].model.document\n    doc.clear();\n    const i = window.Bokeh.documents.indexOf(doc);\n    if (i > -1) {\n      window.Bokeh.documents.splice(i, 1);\n    }\n  }\n}\n\n/**\n * Handle kernel restart event\n */\nfunction handle_kernel_cleanup(event, handle) {\n  delete PyViz.comms[\"hv-extension-comm\"];\n  window.PyViz.plot_index = {}\n}\n\n/**\n * Handle update_display_data messages\n */\nfunction handle_update_output(event, handle) {\n  handle_clear_output(event, {cell: {output_area: handle.output_area}})\n  handle_add_output(event, handle)\n}\n\nfunction register_renderer(events, OutputArea) {\n  function append_mime(data, metadata, element) {\n    // create a DOM node to render to\n    var toinsert = this.create_output_subarea(\n    metadata,\n    CLASS_NAME,\n    EXEC_MIME_TYPE\n    );\n    this.keyboard_manager.register_events(toinsert);\n    // Render to node\n    var props = {data: data, metadata: metadata[EXEC_MIME_TYPE]};\n    render(props, toinsert[0]);\n    element.append(toinsert);\n    return toinsert\n  }\n\n  events.on('output_added.OutputArea', handle_add_output);\n  events.on('output_updated.OutputArea', handle_update_output);\n  events.on('clear_output.CodeCell', handle_clear_output);\n  events.on('delete.Cell', handle_clear_output);\n  events.on('kernel_ready.Kernel', handle_kernel_cleanup);\n\n  OutputArea.prototype.register_mime_type(EXEC_MIME_TYPE, append_mime, {\n    safe: true,\n    index: 0\n  });\n}\n\nif (window.Jupyter !== undefined) {\n  try {\n    var events = require('base/js/events');\n    var OutputArea = require('notebook/js/outputarea').OutputArea;\n    if (OutputArea.prototype.mime_types().indexOf(EXEC_MIME_TYPE) == -1) {\n      register_renderer(events, OutputArea);\n    }\n  } catch(err) {\n  }\n}\n",
            "application/vnd.holoviews_load.v0+json": ""
          },
          "metadata": {},
          "output_type": "display_data"
        },
        {
          "data": {
            "text/html": [
              "<style>.bk-root, .bk-root .bk:before, .bk-root .bk:after {\n",
              "  font-family: var(--jp-ui-font-size1);\n",
              "  font-size: var(--jp-ui-font-size1);\n",
              "  color: var(--jp-ui-font-color1);\n",
              "}\n",
              "</style>"
            ]
          },
          "metadata": {},
          "output_type": "display_data"
        },
        {
          "data": {
            "text/plain": [
              "'0.14.2'"
            ]
          },
          "execution_count": 1,
          "metadata": {},
          "output_type": "execute_result"
        }
      ],
      "source": [
        "import altair as alt\n",
        "import pandas as pd\n",
        "import panel as pn\n",
        "from vega_datasets import data\n",
        "pn.extension('vega')\n",
        "\n",
        "# Make sure that the Panel version is ≥ 0.14.0.\n",
        "pn.__version__"
      ]
    },
    {
      "cell_type": "code",
      "execution_count": 2,
      "metadata": {
        "colab": {
          "base_uri": "https://localhost:8080/"
        },
        "id": "XizjRmgb3vfi",
        "outputId": "c9c79b98-f186-484a-bf3c-b3d221f6f117"
      },
      "outputs": [],
      "source": [
        "# from google.colab import drive\n",
        "# drive=drive.mount('/content/drive')"
      ]
    },
    {
      "cell_type": "markdown",
      "metadata": {
        "id": "fdiuRAPgnL-h"
      },
      "source": [
        "## Country Map"
      ]
    },
    {
      "cell_type": "markdown",
      "metadata": {
        "id": "gbf5K_UHepwQ"
      },
      "source": [
        "1.prepare country data\n",
        "\n",
        "2.create base map, add country data into the base map, combined with country id (create id from code_df)\n",
        "\n",
        "3.add year slider\n",
        "\n",
        "4.add movie and show selection"
      ]
    },
    {
      "cell_type": "code",
      "execution_count": 3,
      "metadata": {
        "colab": {
          "base_uri": "https://localhost:8080/",
          "height": 691
        },
        "id": "7xd4OcdY6pgL",
        "outputId": "38dfd4e0-2a61-4732-a70a-fda6d3ca26b2"
      },
      "outputs": [
        {
          "name": "stderr",
          "output_type": "stream",
          "text": [
            "/var/folders/jn/gt3868vd039by14gxmgb54b40000gn/T/ipykernel_84452/3581348897.py:12: FutureWarning: The default value of regex will change from True to False in a future version.\n",
            "  data1['production_countries'] = data1['production_countries'].str.replace('[^a-zA-Z]', '')\n"
          ]
        },
        {
          "data": {
            "application/vnd.jupyter.widget-view+json": {
              "model_id": "27875529cdc8421c88117d2578e7d066",
              "version_major": 2,
              "version_minor": 0
            },
            "text/plain": [
              "BokehModel(combine_events=True, render_bundle={'docs_json': {'c5ac28b5-5aa2-4061-ac63-e0db9f6589ef': {'defs': …"
            ]
          },
          "metadata": {},
          "output_type": "display_data"
        },
        {
          "data": {
            "text/html": [
              "<div style=\"display: none\"></div>"
            ],
            "text/plain": [
              "Column\n",
              "    [0] Markdown(str)\n",
              "    [1] Row\n",
              "        [0] Select(options=['MOVIE', 'SHOW'], value='MOVIE', width=150)\n",
              "        [1] IntSlider(end=2022, name='Year', start=2000, value=2022, width=850)\n",
              "    [2] Vega(LayerChart, selection=Selection)"
            ]
          },
          "execution_count": 3,
          "metadata": {},
          "output_type": "execute_result"
        }
      ],
      "source": [
        "basedir='/Users/flickr-xc/Library/Mobile Documents/com~apple~CloudDocs/DSBA Courses/Data Visualization/assignment 3/DV/raw_titles.csv'\n",
        "\n",
        "data1 = pd.read_csv(basedir)\n",
        "data1.drop(columns = 'index', inplace = True)\n",
        "data1.sort_values('release_year', inplace = True)\n",
        "# Filter data to keep rows with non-null values these 3 columns\n",
        "data1 = data1.dropna(subset=['production_countries', 'type','release_year'])\n",
        "\n",
        "# the first year a country produced Netflix content, the content name and the according imdb_score\n",
        "data1 = data1.assign(production_countries=data1['production_countries'].str.split(','))\n",
        "data1 = data1.explode('production_countries')\n",
        "data1['production_countries'] = data1['production_countries'].str.replace('[^a-zA-Z]', '')\n",
        "year_country = pd.concat([data1.release_year,data1.production_countries,data1.type],axis=1)\n",
        "countryexplode = year_country.explode(\"production_countries\")\n",
        "\n",
        "countryeplode_num =countryexplode.groupby(['production_countries','release_year','type'])[\"production_countries\"]\\\n",
        "          .agg([('num_productions','count')]).reset_index()\\\n",
        "          .sort_values(by=[\"release_year\",'production_countries'] , ascending=[True,True])\n",
        "\n",
        "countryeplode_num =  countryeplode_num.drop(index =countryeplode_num[(countryeplode_num.production_countries == '')].index.tolist() )\n",
        "countryeplode_num.reset_index(inplace = True,drop = True)\n",
        "\n",
        "# Group data by 'production_countries' and 'release_year' columns and count the number of shows in each group\n",
        "country_year_counts = countryeplode_num.groupby(['production_countries','release_year','type'])['num_productions'].agg('sum').reset_index(name='Count')\n",
        "country_year_counts.columns = ['Country','Year','Type','Count']\n",
        "\n",
        "country_year_counts[country_year_counts['Country']=='US']\n",
        "\n",
        "#prepare data for base map\n",
        "world = data.world_110m.url\n",
        "world_topo = data.world_110m()\n",
        "world_topo.keys()\n",
        "world_topo['objects'].keys()\n",
        "\n",
        "#prepare Country Codes\n",
        "code_df = pd.read_json(\n",
        "    \"https://raw.githubusercontent.com/alisle/world-110m-country-codes/master/world-110m-country-codes.json\"\n",
        ")\n",
        "# Add a missing country\n",
        "singapore_df = pd.DataFrame(data=[{\"code\": \"Singapore\", \"id\": 702, \"name\": \"Singapore\"}])\n",
        "code_df = pd.concat([code_df, singapore_df])\n",
        "\n",
        "# Merge netflix country data with country code\n",
        "code_df2 = code_df.set_index(\"code\")\n",
        "country_year_counts2 = country_year_counts.set_index(\"Country\")\n",
        "df = country_year_counts2.join(code_df2).reset_index()\n",
        "\n",
        "base_map=alt.Chart(alt.topo_feature(world, 'countries')).mark_geoshape( stroke='#d8e3e7', \n",
        "                                  strokeWidth=0.3,\n",
        "                                  color='#f9f9f9'\n",
        "                                  # color='#d8e3e7'\n",
        "                                  )\n",
        "# base_map\n",
        "\n",
        "count_max = df['Count'].max()\n",
        "count_min = df['Count'].min()\n",
        "chart = alt.layer(\n",
        "    base_map,\n",
        "\n",
        "    alt.Chart(alt.topo_feature(world, 'countries')).mark_geoshape( \n",
        "    stroke='#FFFFF', \n",
        "    strokeWidth=0.25\n",
        "    ).transform_lookup(\n",
        "        lookup='id', from_=alt.LookupData(data=df, key='id', fields=['Count','Year','Type','index','name'])\n",
        "    ).encode(\n",
        "        alt.Color('Count:Q',\n",
        "                  scale=alt.Scale(clamp=True,domain=[count_min, count_max]), \n",
        "                  legend=alt.Legend()),\n",
        "        tooltip=['name:N', 'Year:N','Count:Q','Type:N'],\n",
        "    ).project(\n",
        "        type='equalEarth'\n",
        "    )\n",
        "    ).properties(\n",
        "        width=1000,\n",
        "        height=500\n",
        "    ).configure_view(\n",
        "        stroke=None\n",
        "    )\n",
        "\n",
        "\n",
        "type_selector = pn.widgets.Select( value='type', width=150, options=['MOVIE', 'SHOW'])\n",
        "year_slider = pn.widgets.IntSlider(name='Year',width=850, start=int( 2000\n",
        "                                # df['Year'].min()\n",
        "                                ),\n",
        "                                   end=int(df['Year'].max()), step=1, value=int(df['Year'].max()))\n",
        "\n",
        "\n",
        "def update_chart(event):\n",
        "    selected_type = type_selector.value\n",
        "    selected_year = year_slider.value\n",
        "    filtered_df = df[(df['Year'] == selected_year) & (df['Type'] == selected_type)]\n",
        "\n",
        "\n",
        "    \n",
        "    # filtered data\n",
        "    chart = alt.layer(\n",
        "        base_map,\n",
        "        alt.Chart(alt.topo_feature(world, 'countries')).mark_geoshape().transform_lookup(\n",
        "            lookup='id', from_=alt.LookupData(data=filtered_df, key='id', fields=['Count', 'Year', 'Type', 'index', 'name'])\n",
        "        ).encode(\n",
        "            \n",
        "            alt.Color('Count:Q',\n",
        "                      scale=alt.Scale(clamp=True,domain=[count_min, count_max]), \n",
        "                      legend=alt.Legend()),\n",
        "            tooltip=['name:N', 'Year:N', 'Count:Q', 'Type:N'],\n",
        "            \n",
        "        ).project(\n",
        "            type='equalEarth'\n",
        "        )\n",
        "    ).properties(\n",
        "        width=1000,\n",
        "        height=500\n",
        "    ).configure_view(\n",
        "        stroke=None\n",
        "    )\n",
        "    \n",
        "    # Update the chart in the Panel layout\n",
        "    layout1[2] = chart\n",
        "\n",
        "\n",
        "# Attach the callback function\n",
        "type_selector.param.watch(update_chart, 'value')\n",
        "year_slider.param.watch(update_chart, 'value')\n",
        "\n",
        "# Create a panel layout with the selector and the chart\n",
        "layout1 = pn.Column(\n",
        "    '## Netflix by Year and Country',\n",
        "    pn.Row(type_selector,\n",
        "    year_slider),\n",
        "    chart,\n",
        ")\n",
        "layout1"
      ]
    },
    {
      "cell_type": "markdown",
      "metadata": {
        "id": "b8nNSHD3l5nj"
      },
      "source": [
        "## Genre"
      ]
    },
    {
      "cell_type": "code",
      "execution_count": 4,
      "metadata": {
        "colab": {
          "base_uri": "https://localhost:8080/",
          "height": 0
        },
        "id": "Fmj9H_GIl4l-",
        "outputId": "c740889a-70b9-4d22-ef01-5ea4f94c6533"
      },
      "outputs": [
        {
          "name": "stderr",
          "output_type": "stream",
          "text": [
            "/var/folders/jn/gt3868vd039by14gxmgb54b40000gn/T/ipykernel_84452/3245111079.py:16: FutureWarning: The default value of regex will change from True to False in a future version.\n",
            "  df_alt['production_countries'] = df_alt['production_countries'].str.replace('[^a-zA-Z]', '')\n",
            "/var/folders/jn/gt3868vd039by14gxmgb54b40000gn/T/ipykernel_84452/3245111079.py:20: FutureWarning: The default value of regex will change from True to False in a future version.\n",
            "  df_alt['genres'] = df_alt['genres'].str.replace('[^,a-zA-Z]', '')\n"
          ]
        },
        {
          "data": {
            "application/javascript": "(function(root) {\n  function now() {\n    return new Date();\n  }\n\n  var force = true;\n\n  if (typeof root._bokeh_onload_callbacks === \"undefined\" || force === true) {\n    root._bokeh_onload_callbacks = [];\n    root._bokeh_is_loading = undefined;\n  }\n\n  if (typeof (root._bokeh_timeout) === \"undefined\" || force === true) {\n    root._bokeh_timeout = Date.now() + 5000;\n    root._bokeh_failed_load = false;\n  }\n\n  function run_callbacks() {\n    try {\n      root._bokeh_onload_callbacks.forEach(function(callback) {\n        if (callback != null)\n          callback();\n      });\n    } finally {\n      delete root._bokeh_onload_callbacks\n    }\n    console.debug(\"Bokeh: all callbacks have finished\");\n  }\n\n  function load_libs(css_urls, js_urls, js_modules, callback) {\n    if (css_urls == null) css_urls = [];\n    if (js_urls == null) js_urls = [];\n    if (js_modules == null) js_modules = [];\n\n    root._bokeh_onload_callbacks.push(callback);\n    if (root._bokeh_is_loading > 0) {\n      console.debug(\"Bokeh: BokehJS is being loaded, scheduling callback at\", now());\n      return null;\n    }\n    if (js_urls.length === 0 && js_modules.length === 0) {\n      run_callbacks();\n      return null;\n    }\n    console.debug(\"Bokeh: BokehJS not loaded, scheduling load and callback at\", now());\n\n    function on_load() {\n      root._bokeh_is_loading--;\n      if (root._bokeh_is_loading === 0) {\n        console.debug(\"Bokeh: all BokehJS libraries/stylesheets loaded\");\n        run_callbacks()\n      }\n    }\n\n    function on_error() {\n      console.error(\"failed to load \" + url);\n    }\n\n    for (var i = 0; i < css_urls.length; i++) {\n      var url = css_urls[i];\n      const element = document.createElement(\"link\");\n      element.onload = on_load;\n      element.onerror = on_error;\n      element.rel = \"stylesheet\";\n      element.type = \"text/css\";\n      element.href = url;\n      console.debug(\"Bokeh: injecting link tag for BokehJS stylesheet: \", url);\n      document.body.appendChild(element);\n    }\n\n    var skip = [];\n    if (window.requirejs) {\n      window.requirejs.config({'packages': {}, 'paths': {'vega-embed': 'https://cdn.jsdelivr.net/npm/vega-embed@6/build/vega-embed.min', 'vega-lite': 'https://cdn.jsdelivr.net/npm/vega-lite@5/build/vega-lite.min', 'vega': 'https://cdn.jsdelivr.net/npm/vega@5/build/vega.min', 'gridstack': 'https://cdn.jsdelivr.net/npm/gridstack@4.2.5/dist/gridstack-h5', 'notyf': 'https://cdn.jsdelivr.net/npm/notyf@3/notyf.min'}, 'shim': {'gridstack': {'exports': 'GridStack'}}});\n      require([\"vega-embed\"], function(vegaEmbed) {\n\twindow.vegaEmbed = vegaEmbed\n\ton_load()\n      })\n      require([\"vega-lite\"], function(vl) {\n\twindow.vl = vl\n\ton_load()\n      })\n      require([\"vega\"], function(vega) {\n\twindow.vega = vega\n\ton_load()\n      })\n      require([\"gridstack\"], function(GridStack) {\n\twindow.GridStack = GridStack\n\ton_load()\n      })\n      require([\"notyf\"], function() {\n\ton_load()\n      })\n      root._bokeh_is_loading = css_urls.length + 5;\n    } else {\n      root._bokeh_is_loading = css_urls.length + js_urls.length + js_modules.length;\n    }    if (((window['vega'] !== undefined) && (!(window['vega'] instanceof HTMLElement))) || window.requirejs) {\n      var urls = ['https://cdn.holoviz.org/panel/0.14.2/dist/bundled/vegaplot/vega@5'];\n      for (var i = 0; i < urls.length; i++) {\n        skip.push(urls[i])\n      }\n    }    if (((window['vegaLite'] !== undefined) && (!(window['vegaLite'] instanceof HTMLElement))) || window.requirejs) {\n      var urls = ['https://cdn.holoviz.org/panel/0.14.2/dist/bundled/vegaplot/vega-lite@5'];\n      for (var i = 0; i < urls.length; i++) {\n        skip.push(urls[i])\n      }\n    }    if (((window['vegaEmbed'] !== undefined) && (!(window['vegaEmbed'] instanceof HTMLElement))) || window.requirejs) {\n      var urls = ['https://cdn.holoviz.org/panel/0.14.2/dist/bundled/vegaplot/vega-embed@6'];\n      for (var i = 0; i < urls.length; i++) {\n        skip.push(urls[i])\n      }\n    }    if (((window['GridStack'] !== undefined) && (!(window['GridStack'] instanceof HTMLElement))) || window.requirejs) {\n      var urls = ['https://cdn.holoviz.org/panel/0.14.2/dist/bundled/gridstack/gridstack@4.2.5/dist/gridstack-h5.js'];\n      for (var i = 0; i < urls.length; i++) {\n        skip.push(urls[i])\n      }\n    }    if (((window['Notyf'] !== undefined) && (!(window['Notyf'] instanceof HTMLElement))) || window.requirejs) {\n      var urls = ['https://cdn.holoviz.org/panel/0.14.2/dist/bundled/notificationarea/notyf@3/notyf.min.js'];\n      for (var i = 0; i < urls.length; i++) {\n        skip.push(urls[i])\n      }\n    }    for (var i = 0; i < js_urls.length; i++) {\n      var url = js_urls[i];\n      if (skip.indexOf(url) >= 0) {\n\tif (!window.requirejs) {\n\t  on_load();\n\t}\n\tcontinue;\n      }\n      var element = document.createElement('script');\n      element.onload = on_load;\n      element.onerror = on_error;\n      element.async = false;\n      element.src = url;\n      console.debug(\"Bokeh: injecting script tag for BokehJS library: \", url);\n      document.head.appendChild(element);\n    }\n    for (var i = 0; i < js_modules.length; i++) {\n      var url = js_modules[i];\n      if (skip.indexOf(url) >= 0) {\n\tif (!window.requirejs) {\n\t  on_load();\n\t}\n\tcontinue;\n      }\n      var element = document.createElement('script');\n      element.onload = on_load;\n      element.onerror = on_error;\n      element.async = false;\n      element.src = url;\n      element.type = \"module\";\n      console.debug(\"Bokeh: injecting script tag for BokehJS library: \", url);\n      document.head.appendChild(element);\n    }\n    if (!js_urls.length && !js_modules.length) {\n      on_load()\n    }\n  };\n\n  function inject_raw_css(css) {\n    const element = document.createElement(\"style\");\n    element.appendChild(document.createTextNode(css));\n    document.body.appendChild(element);\n  }\n\n  var js_urls = [\"https://cdn.holoviz.org/panel/0.14.2/dist/bundled/vegaplot/vega@5\", \"https://cdn.holoviz.org/panel/0.14.2/dist/bundled/vegaplot/vega-lite@5\", \"https://cdn.holoviz.org/panel/0.14.2/dist/bundled/vegaplot/vega-embed@6\", \"https://cdn.bokeh.org/bokeh/release/bokeh-2.4.3.min.js\", \"https://cdn.bokeh.org/bokeh/release/bokeh-gl-2.4.3.min.js\", \"https://cdn.bokeh.org/bokeh/release/bokeh-widgets-2.4.3.min.js\", \"https://cdn.bokeh.org/bokeh/release/bokeh-tables-2.4.3.min.js\", \"https://cdn.bokeh.org/bokeh/release/bokeh-mathjax-2.4.3.min.js\", \"https://unpkg.com/@holoviz/panel@0.14.2/dist/panel.min.js\"];\n  var js_modules = [];\n  var css_urls = [\"https://cdn.holoviz.org/panel/0.14.2/dist/css/debugger.css\", \"https://cdn.holoviz.org/panel/0.14.2/dist/css/alerts.css\", \"https://cdn.holoviz.org/panel/0.14.2/dist/css/card.css\", \"https://cdn.holoviz.org/panel/0.14.2/dist/css/widgets.css\", \"https://cdn.holoviz.org/panel/0.14.2/dist/css/markdown.css\", \"https://cdn.holoviz.org/panel/0.14.2/dist/css/json.css\", \"https://cdn.holoviz.org/panel/0.14.2/dist/css/loading.css\", \"https://cdn.holoviz.org/panel/0.14.2/dist/css/dataframe.css\"];\n  var inline_js = [    function(Bokeh) {\n      inject_raw_css(\"\\n    .bk.pn-loading.arc:before {\\n      background-image: url(\\\"data:image/svg+xml;base64,PHN2ZyB4bWxucz0iaHR0cDovL3d3dy53My5vcmcvMjAwMC9zdmciIHN0eWxlPSJtYXJnaW46IGF1dG87IGJhY2tncm91bmQ6IG5vbmU7IGRpc3BsYXk6IGJsb2NrOyBzaGFwZS1yZW5kZXJpbmc6IGF1dG87IiB2aWV3Qm94PSIwIDAgMTAwIDEwMCIgcHJlc2VydmVBc3BlY3RSYXRpbz0ieE1pZFlNaWQiPiAgPGNpcmNsZSBjeD0iNTAiIGN5PSI1MCIgZmlsbD0ibm9uZSIgc3Ryb2tlPSIjYzNjM2MzIiBzdHJva2Utd2lkdGg9IjEwIiByPSIzNSIgc3Ryb2tlLWRhc2hhcnJheT0iMTY0LjkzMzYxNDMxMzQ2NDE1IDU2Ljk3Nzg3MTQzNzgyMTM4Ij4gICAgPGFuaW1hdGVUcmFuc2Zvcm0gYXR0cmlidXRlTmFtZT0idHJhbnNmb3JtIiB0eXBlPSJyb3RhdGUiIHJlcGVhdENvdW50PSJpbmRlZmluaXRlIiBkdXI9IjFzIiB2YWx1ZXM9IjAgNTAgNTA7MzYwIDUwIDUwIiBrZXlUaW1lcz0iMDsxIj48L2FuaW1hdGVUcmFuc2Zvcm0+ICA8L2NpcmNsZT48L3N2Zz4=\\\");\\n      background-size: auto calc(min(50%, 400px));\\n    }\\n    \");\n    },    function(Bokeh) {\n      Bokeh.set_log_level(\"info\");\n    },\nfunction(Bokeh) {} // ensure no trailing comma for IE\n  ];\n\n  function run_inline_js() {\n    if ((root.Bokeh !== undefined) || (force === true)) {\n      for (var i = 0; i < inline_js.length; i++) {\n        inline_js[i].call(root, root.Bokeh);\n      }} else if (Date.now() < root._bokeh_timeout) {\n      setTimeout(run_inline_js, 100);\n    } else if (!root._bokeh_failed_load) {\n      console.log(\"Bokeh: BokehJS failed to load within specified timeout.\");\n      root._bokeh_failed_load = true;\n    }\n  }\n\n  if (root._bokeh_is_loading === 0) {\n    console.debug(\"Bokeh: BokehJS loaded, going straight to plotting\");\n    run_inline_js();\n  } else {\n    load_libs(css_urls, js_urls, js_modules, function() {\n      console.debug(\"Bokeh: BokehJS plotting callback run at\", now());\n      run_inline_js();\n    });\n  }\n}(window));",
            "application/vnd.holoviews_load.v0+json": ""
          },
          "metadata": {},
          "output_type": "display_data"
        },
        {
          "data": {
            "application/javascript": "\nif ((window.PyViz === undefined) || (window.PyViz instanceof HTMLElement)) {\n  window.PyViz = {comms: {}, comm_status:{}, kernels:{}, receivers: {}, plot_index: []}\n}\n\n\n    function JupyterCommManager() {\n    }\n\n    JupyterCommManager.prototype.register_target = function(plot_id, comm_id, msg_handler) {\n      if (window.comm_manager || ((window.Jupyter !== undefined) && (Jupyter.notebook.kernel != null))) {\n        var comm_manager = window.comm_manager || Jupyter.notebook.kernel.comm_manager;\n        comm_manager.register_target(comm_id, function(comm) {\n          comm.on_msg(msg_handler);\n        });\n      } else if ((plot_id in window.PyViz.kernels) && (window.PyViz.kernels[plot_id])) {\n        window.PyViz.kernels[plot_id].registerCommTarget(comm_id, function(comm) {\n          comm.onMsg = msg_handler;\n        });\n      } else if (typeof google != 'undefined' && google.colab.kernel != null) {\n        google.colab.kernel.comms.registerTarget(comm_id, (comm) => {\n          var messages = comm.messages[Symbol.asyncIterator]();\n          function processIteratorResult(result) {\n            var message = result.value;\n            console.log(message)\n            var content = {data: message.data, comm_id};\n            var buffers = []\n            for (var buffer of message.buffers || []) {\n              buffers.push(new DataView(buffer))\n            }\n            var metadata = message.metadata || {};\n            var msg = {content, buffers, metadata}\n            msg_handler(msg);\n            return messages.next().then(processIteratorResult);\n          }\n          return messages.next().then(processIteratorResult);\n        })\n      }\n    }\n\n    JupyterCommManager.prototype.get_client_comm = function(plot_id, comm_id, msg_handler) {\n      if (comm_id in window.PyViz.comms) {\n        return window.PyViz.comms[comm_id];\n      } else if (window.comm_manager || ((window.Jupyter !== undefined) && (Jupyter.notebook.kernel != null))) {\n        var comm_manager = window.comm_manager || Jupyter.notebook.kernel.comm_manager;\n        var comm = comm_manager.new_comm(comm_id, {}, {}, {}, comm_id);\n        if (msg_handler) {\n          comm.on_msg(msg_handler);\n        }\n      } else if ((plot_id in window.PyViz.kernels) && (window.PyViz.kernels[plot_id])) {\n        var comm = window.PyViz.kernels[plot_id].connectToComm(comm_id);\n        comm.open();\n        if (msg_handler) {\n          comm.onMsg = msg_handler;\n        }\n      } else if (typeof google != 'undefined' && google.colab.kernel != null) {\n        var comm_promise = google.colab.kernel.comms.open(comm_id)\n        comm_promise.then((comm) => {\n          window.PyViz.comms[comm_id] = comm;\n          if (msg_handler) {\n            var messages = comm.messages[Symbol.asyncIterator]();\n            function processIteratorResult(result) {\n              var message = result.value;\n              var content = {data: message.data};\n              var metadata = message.metadata || {comm_id};\n              var msg = {content, metadata}\n              msg_handler(msg);\n              return messages.next().then(processIteratorResult);\n            }\n            return messages.next().then(processIteratorResult);\n          }\n        }) \n        var sendClosure = (data, metadata, buffers, disposeOnDone) => {\n          return comm_promise.then((comm) => {\n            comm.send(data, metadata, buffers, disposeOnDone);\n          });\n        };\n        var comm = {\n          send: sendClosure\n        };\n      }\n      window.PyViz.comms[comm_id] = comm;\n      return comm;\n    }\n    window.PyViz.comm_manager = new JupyterCommManager();\n    \n\n\nvar JS_MIME_TYPE = 'application/javascript';\nvar HTML_MIME_TYPE = 'text/html';\nvar EXEC_MIME_TYPE = 'application/vnd.holoviews_exec.v0+json';\nvar CLASS_NAME = 'output';\n\n/**\n * Render data to the DOM node\n */\nfunction render(props, node) {\n  var div = document.createElement(\"div\");\n  var script = document.createElement(\"script\");\n  node.appendChild(div);\n  node.appendChild(script);\n}\n\n/**\n * Handle when a new output is added\n */\nfunction handle_add_output(event, handle) {\n  var output_area = handle.output_area;\n  var output = handle.output;\n  if ((output.data == undefined) || (!output.data.hasOwnProperty(EXEC_MIME_TYPE))) {\n    return\n  }\n  var id = output.metadata[EXEC_MIME_TYPE][\"id\"];\n  var toinsert = output_area.element.find(\".\" + CLASS_NAME.split(' ')[0]);\n  if (id !== undefined) {\n    var nchildren = toinsert.length;\n    var html_node = toinsert[nchildren-1].children[0];\n    html_node.innerHTML = output.data[HTML_MIME_TYPE];\n    var scripts = [];\n    var nodelist = html_node.querySelectorAll(\"script\");\n    for (var i in nodelist) {\n      if (nodelist.hasOwnProperty(i)) {\n        scripts.push(nodelist[i])\n      }\n    }\n\n    scripts.forEach( function (oldScript) {\n      var newScript = document.createElement(\"script\");\n      var attrs = [];\n      var nodemap = oldScript.attributes;\n      for (var j in nodemap) {\n        if (nodemap.hasOwnProperty(j)) {\n          attrs.push(nodemap[j])\n        }\n      }\n      attrs.forEach(function(attr) { newScript.setAttribute(attr.name, attr.value) });\n      newScript.appendChild(document.createTextNode(oldScript.innerHTML));\n      oldScript.parentNode.replaceChild(newScript, oldScript);\n    });\n    if (JS_MIME_TYPE in output.data) {\n      toinsert[nchildren-1].children[1].textContent = output.data[JS_MIME_TYPE];\n    }\n    output_area._hv_plot_id = id;\n    if ((window.Bokeh !== undefined) && (id in Bokeh.index)) {\n      window.PyViz.plot_index[id] = Bokeh.index[id];\n    } else {\n      window.PyViz.plot_index[id] = null;\n    }\n  } else if (output.metadata[EXEC_MIME_TYPE][\"server_id\"] !== undefined) {\n    var bk_div = document.createElement(\"div\");\n    bk_div.innerHTML = output.data[HTML_MIME_TYPE];\n    var script_attrs = bk_div.children[0].attributes;\n    for (var i = 0; i < script_attrs.length; i++) {\n      toinsert[toinsert.length - 1].childNodes[1].setAttribute(script_attrs[i].name, script_attrs[i].value);\n    }\n    // store reference to server id on output_area\n    output_area._bokeh_server_id = output.metadata[EXEC_MIME_TYPE][\"server_id\"];\n  }\n}\n\n/**\n * Handle when an output is cleared or removed\n */\nfunction handle_clear_output(event, handle) {\n  var id = handle.cell.output_area._hv_plot_id;\n  var server_id = handle.cell.output_area._bokeh_server_id;\n  if (((id === undefined) || !(id in PyViz.plot_index)) && (server_id !== undefined)) { return; }\n  var comm = window.PyViz.comm_manager.get_client_comm(\"hv-extension-comm\", \"hv-extension-comm\", function () {});\n  if (server_id !== null) {\n    comm.send({event_type: 'server_delete', 'id': server_id});\n    return;\n  } else if (comm !== null) {\n    comm.send({event_type: 'delete', 'id': id});\n  }\n  delete PyViz.plot_index[id];\n  if ((window.Bokeh !== undefined) & (id in window.Bokeh.index)) {\n    var doc = window.Bokeh.index[id].model.document\n    doc.clear();\n    const i = window.Bokeh.documents.indexOf(doc);\n    if (i > -1) {\n      window.Bokeh.documents.splice(i, 1);\n    }\n  }\n}\n\n/**\n * Handle kernel restart event\n */\nfunction handle_kernel_cleanup(event, handle) {\n  delete PyViz.comms[\"hv-extension-comm\"];\n  window.PyViz.plot_index = {}\n}\n\n/**\n * Handle update_display_data messages\n */\nfunction handle_update_output(event, handle) {\n  handle_clear_output(event, {cell: {output_area: handle.output_area}})\n  handle_add_output(event, handle)\n}\n\nfunction register_renderer(events, OutputArea) {\n  function append_mime(data, metadata, element) {\n    // create a DOM node to render to\n    var toinsert = this.create_output_subarea(\n    metadata,\n    CLASS_NAME,\n    EXEC_MIME_TYPE\n    );\n    this.keyboard_manager.register_events(toinsert);\n    // Render to node\n    var props = {data: data, metadata: metadata[EXEC_MIME_TYPE]};\n    render(props, toinsert[0]);\n    element.append(toinsert);\n    return toinsert\n  }\n\n  events.on('output_added.OutputArea', handle_add_output);\n  events.on('output_updated.OutputArea', handle_update_output);\n  events.on('clear_output.CodeCell', handle_clear_output);\n  events.on('delete.Cell', handle_clear_output);\n  events.on('kernel_ready.Kernel', handle_kernel_cleanup);\n\n  OutputArea.prototype.register_mime_type(EXEC_MIME_TYPE, append_mime, {\n    safe: true,\n    index: 0\n  });\n}\n\nif (window.Jupyter !== undefined) {\n  try {\n    var events = require('base/js/events');\n    var OutputArea = require('notebook/js/outputarea').OutputArea;\n    if (OutputArea.prototype.mime_types().indexOf(EXEC_MIME_TYPE) == -1) {\n      register_renderer(events, OutputArea);\n    }\n  } catch(err) {\n  }\n}\n",
            "application/vnd.holoviews_load.v0+json": ""
          },
          "metadata": {},
          "output_type": "display_data"
        },
        {
          "data": {
            "text/html": [
              "<style>.bk-root, .bk-root .bk:before, .bk-root .bk:after {\n",
              "  font-family: var(--jp-ui-font-size1);\n",
              "  font-size: var(--jp-ui-font-size1);\n",
              "  color: var(--jp-ui-font-color1);\n",
              "}\n",
              "</style>"
            ]
          },
          "metadata": {},
          "output_type": "display_data"
        },
        {
          "data": {
            "application/vnd.jupyter.widget-view+json": {
              "model_id": "8ed2e044babb48a782c28f23ddf316d9",
              "version_major": 2,
              "version_minor": 0
            },
            "text/plain": [
              "BokehModel(combine_events=True, render_bundle={'docs_json': {'b01ab5f0-e5e1-4a6c-94a1-7e1863072fbe': {'defs': …"
            ]
          },
          "metadata": {},
          "output_type": "display_data"
        },
        {
          "data": {
            "text/html": [
              "<div style=\"display: none\"></div>"
            ],
            "text/plain": [
              "Column\n",
              "    [0] Markdown(str)\n",
              "    [1] Select(options=['MOVIE', 'SHOW'], value='MOVIE', width=150)\n",
              "    [2] Column\n",
              "        [0] Row\n",
              "            [0] Vega(Chart, debounce=100, selection=Selection)\n",
              "            [1] ParamFunction(function)"
            ]
          },
          "execution_count": 4,
          "metadata": {},
          "output_type": "execute_result"
        }
      ],
      "source": [
        "import matplotlib.pyplot as plt\n",
        "import seaborn as sns\n",
        "from altair import expr, datum\n",
        "import numpy as np\n",
        "import panel as pn\n",
        "import pandas as pd\n",
        "import altair as alt\n",
        "\n",
        "# prepare data\n",
        "df3 = pd.read_csv('/Users/flickr-xc/Library/Mobile Documents/com~apple~CloudDocs/DSBA Courses/Data Visualization/assignment 3/DV/raw_titles.csv')\n",
        "df3 = df3.set_index('index')\n",
        "\n",
        "\n",
        "df_alt = df3.assign(production_countries=df3['production_countries'].str.split(','))\n",
        "df_alt = df_alt.explode('production_countries')\n",
        "df_alt['production_countries'] = df_alt['production_countries'].str.replace('[^a-zA-Z]', '')\n",
        "\n",
        "df_alt = df_alt.assign(genres=df_alt['genres'].str.split(','))\n",
        "df_alt = df_alt.explode('genres')\n",
        "df_alt['genres'] = df_alt['genres'].str.replace('[^,a-zA-Z]', '')\n",
        "\n",
        "df_alt = df_alt[0:15000]\n",
        "\n",
        "df4 = df_alt.drop_duplicates(subset='id', keep='first')\n",
        "df4 = df4.sort_values('imdb_votes', ascending=False).reset_index(drop=True)\n",
        "df4 = df4.reset_index(drop=False)\n",
        "df4 = df4[['index','id','title','type','genres','imdb_score','imdb_votes']]\n",
        "\n",
        "color = alt.Color('genres:N')\n",
        "\n",
        "# # Create multiple selection on the bar chart\n",
        "# multi = alt.selection_multi(name = 'multi',fields=['genres'])\n",
        "# # Create interval selecion on the bubble chart\n",
        "# brush = alt.selection_interval(name = 'brush',encodings = ['x'])\n",
        "\n",
        "# # Create a bubble chart\n",
        "# points = alt.Chart(df4).mark_point().encode(\n",
        "#     alt.X('index:Q', title='movie/show'),\n",
        "#     alt.Y('imdb_score:Q',\n",
        "#         title='imdb_score',\n",
        "#         scale=alt.Scale(domain=[-1, 10])\n",
        "#     ),\n",
        "#     color=alt.condition(multi,color,alt.value('lightgrey'))\n",
        "# ).properties(\n",
        "#     width=400,\n",
        "#     height=310\n",
        "# ).add_selection(brush\n",
        "#                 ).transform_filter(\n",
        "#     alt.FieldOneOfPredicate(field='type', oneOf=['MOVIE'])  # Filter data for 'Action' and 'Comedy' genres\n",
        "# )\n",
        "\n",
        "# # Filter the data when user clicks on the bar chart\n",
        "\n",
        "# # Add interval selection to the bubble chart\n",
        "\n",
        "\n",
        "# # Create a bar chart\n",
        "# bars = alt.Chart(df4).mark_bar().encode(\n",
        "#     alt.X('mean(imdb_votes):Q',title='average votes number of each genre '),\n",
        "#     alt.Y('genres:N'),\n",
        "#     color=alt.condition(multi,color,alt.value('lightgrey'))\n",
        "# ).properties(width=400,height=310).add_selection(multi\n",
        "#                                       ).transform_filter(\n",
        "#     alt.FieldOneOfPredicate(field='type', oneOf=['MOVIE'])  # Filter data for 'Action' and 'Comedy' genres\n",
        "# )\n",
        "\n",
        "# # Add multiple selection to the bar chart\n",
        "\n",
        "\n",
        "# # Filter the data when user draws brush on the bubble chart\n",
        "# bars = bars.transform_filter(brush)\n",
        "\n",
        "# points & bars\n",
        "\n",
        "\"\"\"## panel\"\"\"\n",
        "\n",
        "# def filtered_table(selection,dataframe):\n",
        "#     # 0. Prevent an error if selection object is None or empty.\n",
        "#     if selection is None or len(selection) == 0:\n",
        "#         return '### No data selection now' \n",
        "    \n",
        "#     # 1. Create a query string to filter the data\n",
        "#     query = ' & '.join(\n",
        "#         f'{crange[0]} <= `{col}` <= {crange[1]}'\n",
        "#         for col, crange in selection.items())\n",
        "    \n",
        "#     # 2. Filter the penguin data frame from the query\n",
        "#     df_filter = dataframe.query(query)\n",
        "\n",
        "    \n",
        "#     # 3. Add the DataFrame pane that render pandas object\n",
        "#     return pn.pane.DataFrame(df_filter, width=400)\n",
        "\n",
        "\n",
        "\n",
        "pn.extension('vega')\n",
        "\n",
        "\n",
        "def plot_scatter(dataframe):\n",
        "    # 1. Copy the scatter plot and modify encodings based on params\n",
        "    brush = alt.selection_interval(name = 'brush',encodings = ['x'])\n",
        "    multi = alt.selection_multi(name='multi', fields=['genres'])\n",
        "    points = alt.Chart(dataframe).mark_point().encode(\n",
        "        alt.X('index:Q', title='movie/show'),\n",
        "        alt.Y('imdb_score:Q',\n",
        "            title='imdb_score',\n",
        "            scale=alt.Scale(domain=[-1, 10])\n",
        "        ),\n",
        "        color=alt.condition(brush,color,alt.value('lightgrey'))\n",
        "    ).properties(\n",
        "        width=400,\n",
        "        height=310\n",
        "    ).add_selection(brush)\n",
        "\n",
        "    # 2. Retuen the Vega pane of the Altair chart\n",
        "    return pn.pane.Vega(points, debounce=100)\n",
        "\n",
        "def plot_bar(selection,dataframe):\n",
        "    # 1. Filter the penguin data frame based on selection\n",
        "    if selection is None or len(selection) == 0:\n",
        "        df_plot_bar = dataframe\n",
        "    else:\n",
        "        query = ' & '.join(\n",
        "            f'{crange[0]} <= `{col}` <= {crange[1]}'\n",
        "            for col, crange in selection.items())\n",
        "        df_plot_bar = dataframe.query(query)\n",
        "\n",
        "    # 2. Create the bar chart\n",
        "    multi = alt.selection_multi(name = 'multi',fields=['genres'])\n",
        "\n",
        "    brush = alt.selection_interval(name = 'brush',encodings = ['x'])\n",
        "\n",
        "    bars = alt.Chart(df_plot_bar).mark_bar().encode(\n",
        "        x='mean(imdb_votes):Q',\n",
        "        y='genres:N',\n",
        "        color=alt.condition(multi,color,alt.value('lightgrey')),\n",
        "        tooltip=['mean(imdb_votes):Q', 'genres:N','Type:N'],\n",
        "    ).properties(width=400, height=310).add_selection(multi)\n",
        "    # Add multiple selection to the bar chart\n",
        "\n",
        "\n",
        "    # Filter the data when user draws brush on the bubble chart\n",
        "    # bars = bars.transform_filter(brush)\n",
        "    return bars\n",
        "\n",
        "\n",
        "# movie/show selection\n",
        "type = pn.widgets.Select(value='type', width=150, options=['MOVIE', 'SHOW'])\n",
        "\n",
        "\n",
        "pane = plot_scatter(df4)\n",
        "\n",
        "# 3. Update the panel when the inputs are changed\n",
        "def update(event):\n",
        "    select_type = type.value\n",
        "    filtered_df = df4[(df4['type'] == select_type)]\n",
        "    pane = plot_scatter(filtered_df)\n",
        "    layout2[2][0][0] = pane\n",
        "    layout2[2][0][1] = pn.bind(plot_bar, pane.selection.param.brush,filtered_df)\n",
        "\n",
        "# 2. Watch the parameter change and call update function\n",
        "\n",
        "type.param.watch(update, 'value')\n",
        "\n",
        "\n",
        "# 4. Create the panel with inputs and all panes\n",
        "\n",
        "layout2 = pn.Column(\n",
        "    '## Netflix Number of Votes Explorer',\n",
        "    type,\n",
        "    pn.Column(\n",
        "        pn.Row(pane, pn.bind(plot_bar, pane.selection.param.brush,df4))\n",
        "        )\n",
        ")\n",
        "\n",
        "\n",
        "\n",
        "layout2"
      ]
    },
    {
      "cell_type": "markdown",
      "metadata": {
        "id": "bwYDLs0kl0oo"
      },
      "source": [
        "## Imdb Score"
      ]
    },
    {
      "cell_type": "code",
      "execution_count": 5,
      "metadata": {
        "colab": {
          "base_uri": "https://localhost:8080/",
          "height": 0
        },
        "id": "xrqfg-Wrk9ns",
        "outputId": "9aa2de5d-495f-4038-aa7f-4e02f37b52dd"
      },
      "outputs": [
        {
          "data": {
            "application/vnd.jupyter.widget-view+json": {
              "model_id": "c40d6ed8d339414c90f9e0fb8511d87c",
              "version_major": 2,
              "version_minor": 0
            },
            "text/plain": [
              "BokehModel(combine_events=True, render_bundle={'docs_json': {'eda06358-d3eb-4d48-81dc-70e282d33e72': {'defs': …"
            ]
          },
          "metadata": {},
          "output_type": "display_data"
        },
        {
          "data": {
            "text/html": [
              "<div style=\"display: none\"></div>"
            ],
            "text/plain": [
              "Column\n",
              "    [0] Markdown(str)\n",
              "    [1] Row\n",
              "        [0] Vega(Chart, selection=Selection)\n",
              "        [1] Vega(Chart, selection=Selection)"
            ]
          },
          "execution_count": 5,
          "metadata": {},
          "output_type": "execute_result"
        }
      ],
      "source": [
        "\"\"\"\n",
        "1.   Load dataset\n",
        "2.   import Altair\n",
        "3. plot\n",
        "\"\"\"\n",
        "\n",
        "# max row > 5000\n",
        "alt.data_transformers.disable_max_rows()\n",
        "\n",
        "# show\n",
        "# Load dataset\n",
        "show = pd.read_csv('/Users/flickr-xc/Library/Mobile Documents/com~apple~CloudDocs/DSBA Courses/Data Visualization/assignment 3/DV/show.csv')\n",
        "movie = pd.read_csv('/Users/flickr-xc/Library/Mobile Documents/com~apple~CloudDocs/DSBA Courses/Data Visualization/assignment 3/DV/movie.csv')\n",
        "\n",
        "show = show.loc[:, ['id', 'title', 'type','genre_split', 'imdb_score']]\n",
        "source_show = show.rename(columns={'genre_split': 'genre'})\n",
        "\n",
        "movie = movie.loc[:, ['id', 'title', 'type','genre_split', 'imdb_score']]\n",
        "source_movie = movie.rename(columns={'genre_split': 'genre'})\n",
        "\n",
        "# exclude null\n",
        "source_show = source_show.dropna(subset=['genre'])\n",
        "source_movie = source_movie.dropna(subset=['genre'])\n",
        "\n",
        "# plot - show\n",
        "scat_show = alt.Chart(source_show).mark_point(size = 50).encode(\n",
        "    y = alt.Y('mean(imdb_score):Q', scale=alt.Scale(domain=(4,8)), title='Average Imdb Score'),\n",
        "    x = alt.X('count(id)', title='Count of show'),\n",
        "    color = 'genre',\n",
        "    size = alt.Size('count(id)'),\n",
        "    tooltip = ['genre:N', 'mean(imdb_score):N']\n",
        ").properties(\n",
        "    width=400,\n",
        "    height=400\n",
        ")\n",
        "\n",
        "\n",
        "scat_movie = alt.Chart(source_movie).mark_point(size = 50).encode(\n",
        "    y = alt.Y('mean(imdb_score):Q', scale=alt.Scale(domain=(4,8)),title='Average Imdb Score'),\n",
        "    x = alt.X('count(id)', title='Count of movie'),\n",
        "    color = 'genre',\n",
        "    size = alt.Size('count(id)'),\n",
        "    tooltip = ['genre:N', 'mean(imdb_score):N']\n",
        ").properties(\n",
        "    width=400,\n",
        "    height=400\n",
        ")\n",
        "\n",
        "layout3=pn.Column(\n",
        "    '## Netflix Imdb Score',\n",
        "    pn.Row(scat_movie,\n",
        "    scat_show)\n",
        "    )\n",
        "layout3"
      ]
    },
    {
      "cell_type": "markdown",
      "metadata": {
        "id": "CichhvC_Q5Zt"
      },
      "source": [
        "## Actor"
      ]
    },
    {
      "cell_type": "code",
      "execution_count": 6,
      "metadata": {
        "colab": {
          "base_uri": "https://localhost:8080/",
          "height": 277
        },
        "id": "ihCxBlGgRBTd",
        "outputId": "ed1afe81-f8b1-4467-986b-4ad1f38f3157"
      },
      "outputs": [
        {
          "name": "stderr",
          "output_type": "stream",
          "text": [
            "WARNING:param.panel_extension: material extension not recognized and will be skipped.\n",
            "WARNING:param.panel_extension: A HoloViz extension was loaded previously. This means the extension is already initialized and the following Panel extensions could not be properly loaded: ['material']. If you are loading custom extensions with pn.extension(...) ensure that this is called before any other HoloViz extension such as hvPlot or HoloViews.\n"
          ]
        },
        {
          "data": {
            "application/javascript": "(function(root) {\n  function now() {\n    return new Date();\n  }\n\n  var force = true;\n\n  if (typeof root._bokeh_onload_callbacks === \"undefined\" || force === true) {\n    root._bokeh_onload_callbacks = [];\n    root._bokeh_is_loading = undefined;\n  }\n\n  if (typeof (root._bokeh_timeout) === \"undefined\" || force === true) {\n    root._bokeh_timeout = Date.now() + 5000;\n    root._bokeh_failed_load = false;\n  }\n\n  function run_callbacks() {\n    try {\n      root._bokeh_onload_callbacks.forEach(function(callback) {\n        if (callback != null)\n          callback();\n      });\n    } finally {\n      delete root._bokeh_onload_callbacks\n    }\n    console.debug(\"Bokeh: all callbacks have finished\");\n  }\n\n  function load_libs(css_urls, js_urls, js_modules, callback) {\n    if (css_urls == null) css_urls = [];\n    if (js_urls == null) js_urls = [];\n    if (js_modules == null) js_modules = [];\n\n    root._bokeh_onload_callbacks.push(callback);\n    if (root._bokeh_is_loading > 0) {\n      console.debug(\"Bokeh: BokehJS is being loaded, scheduling callback at\", now());\n      return null;\n    }\n    if (js_urls.length === 0 && js_modules.length === 0) {\n      run_callbacks();\n      return null;\n    }\n    console.debug(\"Bokeh: BokehJS not loaded, scheduling load and callback at\", now());\n\n    function on_load() {\n      root._bokeh_is_loading--;\n      if (root._bokeh_is_loading === 0) {\n        console.debug(\"Bokeh: all BokehJS libraries/stylesheets loaded\");\n        run_callbacks()\n      }\n    }\n\n    function on_error() {\n      console.error(\"failed to load \" + url);\n    }\n\n    for (var i = 0; i < css_urls.length; i++) {\n      var url = css_urls[i];\n      const element = document.createElement(\"link\");\n      element.onload = on_load;\n      element.onerror = on_error;\n      element.rel = \"stylesheet\";\n      element.type = \"text/css\";\n      element.href = url;\n      console.debug(\"Bokeh: injecting link tag for BokehJS stylesheet: \", url);\n      document.body.appendChild(element);\n    }\n\n    var skip = [];\n    if (window.requirejs) {\n      window.requirejs.config({'packages': {}, 'paths': {'vega-embed': 'https://cdn.jsdelivr.net/npm/vega-embed@6/build/vega-embed.min', 'vega-lite': 'https://cdn.jsdelivr.net/npm/vega-lite@5/build/vega-lite.min', 'vega': 'https://cdn.jsdelivr.net/npm/vega@5/build/vega.min', 'gridstack': 'https://cdn.jsdelivr.net/npm/gridstack@4.2.5/dist/gridstack-h5', 'notyf': 'https://cdn.jsdelivr.net/npm/notyf@3/notyf.min'}, 'shim': {'gridstack': {'exports': 'GridStack'}}});\n      require([\"vega-embed\"], function(vegaEmbed) {\n\twindow.vegaEmbed = vegaEmbed\n\ton_load()\n      })\n      require([\"vega-lite\"], function(vl) {\n\twindow.vl = vl\n\ton_load()\n      })\n      require([\"vega\"], function(vega) {\n\twindow.vega = vega\n\ton_load()\n      })\n      require([\"gridstack\"], function(GridStack) {\n\twindow.GridStack = GridStack\n\ton_load()\n      })\n      require([\"notyf\"], function() {\n\ton_load()\n      })\n      root._bokeh_is_loading = css_urls.length + 5;\n    } else {\n      root._bokeh_is_loading = css_urls.length + js_urls.length + js_modules.length;\n    }    if (((window['vega'] !== undefined) && (!(window['vega'] instanceof HTMLElement))) || window.requirejs) {\n      var urls = ['https://cdn.holoviz.org/panel/0.14.2/dist/bundled/vegaplot/vega@5'];\n      for (var i = 0; i < urls.length; i++) {\n        skip.push(urls[i])\n      }\n    }    if (((window['vegaLite'] !== undefined) && (!(window['vegaLite'] instanceof HTMLElement))) || window.requirejs) {\n      var urls = ['https://cdn.holoviz.org/panel/0.14.2/dist/bundled/vegaplot/vega-lite@5'];\n      for (var i = 0; i < urls.length; i++) {\n        skip.push(urls[i])\n      }\n    }    if (((window['vegaEmbed'] !== undefined) && (!(window['vegaEmbed'] instanceof HTMLElement))) || window.requirejs) {\n      var urls = ['https://cdn.holoviz.org/panel/0.14.2/dist/bundled/vegaplot/vega-embed@6'];\n      for (var i = 0; i < urls.length; i++) {\n        skip.push(urls[i])\n      }\n    }    if (((window['GridStack'] !== undefined) && (!(window['GridStack'] instanceof HTMLElement))) || window.requirejs) {\n      var urls = ['https://cdn.holoviz.org/panel/0.14.2/dist/bundled/gridstack/gridstack@4.2.5/dist/gridstack-h5.js'];\n      for (var i = 0; i < urls.length; i++) {\n        skip.push(urls[i])\n      }\n    }    if (((window['Notyf'] !== undefined) && (!(window['Notyf'] instanceof HTMLElement))) || window.requirejs) {\n      var urls = ['https://cdn.holoviz.org/panel/0.14.2/dist/bundled/notificationarea/notyf@3/notyf.min.js'];\n      for (var i = 0; i < urls.length; i++) {\n        skip.push(urls[i])\n      }\n    }    for (var i = 0; i < js_urls.length; i++) {\n      var url = js_urls[i];\n      if (skip.indexOf(url) >= 0) {\n\tif (!window.requirejs) {\n\t  on_load();\n\t}\n\tcontinue;\n      }\n      var element = document.createElement('script');\n      element.onload = on_load;\n      element.onerror = on_error;\n      element.async = false;\n      element.src = url;\n      console.debug(\"Bokeh: injecting script tag for BokehJS library: \", url);\n      document.head.appendChild(element);\n    }\n    for (var i = 0; i < js_modules.length; i++) {\n      var url = js_modules[i];\n      if (skip.indexOf(url) >= 0) {\n\tif (!window.requirejs) {\n\t  on_load();\n\t}\n\tcontinue;\n      }\n      var element = document.createElement('script');\n      element.onload = on_load;\n      element.onerror = on_error;\n      element.async = false;\n      element.src = url;\n      element.type = \"module\";\n      console.debug(\"Bokeh: injecting script tag for BokehJS library: \", url);\n      document.head.appendChild(element);\n    }\n    if (!js_urls.length && !js_modules.length) {\n      on_load()\n    }\n  };\n\n  function inject_raw_css(css) {\n    const element = document.createElement(\"style\");\n    element.appendChild(document.createTextNode(css));\n    document.body.appendChild(element);\n  }\n\n  var js_urls = [\"https://cdn.holoviz.org/panel/0.14.2/dist/bundled/vegaplot/vega@5\", \"https://cdn.holoviz.org/panel/0.14.2/dist/bundled/vegaplot/vega-lite@5\", \"https://cdn.holoviz.org/panel/0.14.2/dist/bundled/vegaplot/vega-embed@6\", \"https://cdn.bokeh.org/bokeh/release/bokeh-2.4.3.min.js\", \"https://cdn.bokeh.org/bokeh/release/bokeh-gl-2.4.3.min.js\", \"https://cdn.bokeh.org/bokeh/release/bokeh-widgets-2.4.3.min.js\", \"https://cdn.bokeh.org/bokeh/release/bokeh-tables-2.4.3.min.js\", \"https://cdn.bokeh.org/bokeh/release/bokeh-mathjax-2.4.3.min.js\", \"https://unpkg.com/@holoviz/panel@0.14.2/dist/panel.min.js\"];\n  var js_modules = [];\n  var css_urls = [\"https://cdn.holoviz.org/panel/0.14.2/dist/css/debugger.css\", \"https://cdn.holoviz.org/panel/0.14.2/dist/css/alerts.css\", \"https://cdn.holoviz.org/panel/0.14.2/dist/css/card.css\", \"https://cdn.holoviz.org/panel/0.14.2/dist/css/widgets.css\", \"https://cdn.holoviz.org/panel/0.14.2/dist/css/markdown.css\", \"https://cdn.holoviz.org/panel/0.14.2/dist/css/json.css\", \"https://cdn.holoviz.org/panel/0.14.2/dist/css/loading.css\", \"https://cdn.holoviz.org/panel/0.14.2/dist/css/dataframe.css\"];\n  var inline_js = [    function(Bokeh) {\n      inject_raw_css(\"\\n    .bk.pn-loading.arc:before {\\n      background-image: url(\\\"data:image/svg+xml;base64,PHN2ZyB4bWxucz0iaHR0cDovL3d3dy53My5vcmcvMjAwMC9zdmciIHN0eWxlPSJtYXJnaW46IGF1dG87IGJhY2tncm91bmQ6IG5vbmU7IGRpc3BsYXk6IGJsb2NrOyBzaGFwZS1yZW5kZXJpbmc6IGF1dG87IiB2aWV3Qm94PSIwIDAgMTAwIDEwMCIgcHJlc2VydmVBc3BlY3RSYXRpbz0ieE1pZFlNaWQiPiAgPGNpcmNsZSBjeD0iNTAiIGN5PSI1MCIgZmlsbD0ibm9uZSIgc3Ryb2tlPSIjYzNjM2MzIiBzdHJva2Utd2lkdGg9IjEwIiByPSIzNSIgc3Ryb2tlLWRhc2hhcnJheT0iMTY0LjkzMzYxNDMxMzQ2NDE1IDU2Ljk3Nzg3MTQzNzgyMTM4Ij4gICAgPGFuaW1hdGVUcmFuc2Zvcm0gYXR0cmlidXRlTmFtZT0idHJhbnNmb3JtIiB0eXBlPSJyb3RhdGUiIHJlcGVhdENvdW50PSJpbmRlZmluaXRlIiBkdXI9IjFzIiB2YWx1ZXM9IjAgNTAgNTA7MzYwIDUwIDUwIiBrZXlUaW1lcz0iMDsxIj48L2FuaW1hdGVUcmFuc2Zvcm0+ICA8L2NpcmNsZT48L3N2Zz4=\\\");\\n      background-size: auto calc(min(50%, 400px));\\n    }\\n    \");\n    },    function(Bokeh) {\n      Bokeh.set_log_level(\"info\");\n    },\nfunction(Bokeh) {} // ensure no trailing comma for IE\n  ];\n\n  function run_inline_js() {\n    if ((root.Bokeh !== undefined) || (force === true)) {\n      for (var i = 0; i < inline_js.length; i++) {\n        inline_js[i].call(root, root.Bokeh);\n      }} else if (Date.now() < root._bokeh_timeout) {\n      setTimeout(run_inline_js, 100);\n    } else if (!root._bokeh_failed_load) {\n      console.log(\"Bokeh: BokehJS failed to load within specified timeout.\");\n      root._bokeh_failed_load = true;\n    }\n  }\n\n  if (root._bokeh_is_loading === 0) {\n    console.debug(\"Bokeh: BokehJS loaded, going straight to plotting\");\n    run_inline_js();\n  } else {\n    load_libs(css_urls, js_urls, js_modules, function() {\n      console.debug(\"Bokeh: BokehJS plotting callback run at\", now());\n      run_inline_js();\n    });\n  }\n}(window));",
            "application/vnd.holoviews_load.v0+json": ""
          },
          "metadata": {},
          "output_type": "display_data"
        },
        {
          "data": {
            "application/javascript": "\nif ((window.PyViz === undefined) || (window.PyViz instanceof HTMLElement)) {\n  window.PyViz = {comms: {}, comm_status:{}, kernels:{}, receivers: {}, plot_index: []}\n}\n\n\n    function JupyterCommManager() {\n    }\n\n    JupyterCommManager.prototype.register_target = function(plot_id, comm_id, msg_handler) {\n      if (window.comm_manager || ((window.Jupyter !== undefined) && (Jupyter.notebook.kernel != null))) {\n        var comm_manager = window.comm_manager || Jupyter.notebook.kernel.comm_manager;\n        comm_manager.register_target(comm_id, function(comm) {\n          comm.on_msg(msg_handler);\n        });\n      } else if ((plot_id in window.PyViz.kernels) && (window.PyViz.kernels[plot_id])) {\n        window.PyViz.kernels[plot_id].registerCommTarget(comm_id, function(comm) {\n          comm.onMsg = msg_handler;\n        });\n      } else if (typeof google != 'undefined' && google.colab.kernel != null) {\n        google.colab.kernel.comms.registerTarget(comm_id, (comm) => {\n          var messages = comm.messages[Symbol.asyncIterator]();\n          function processIteratorResult(result) {\n            var message = result.value;\n            console.log(message)\n            var content = {data: message.data, comm_id};\n            var buffers = []\n            for (var buffer of message.buffers || []) {\n              buffers.push(new DataView(buffer))\n            }\n            var metadata = message.metadata || {};\n            var msg = {content, buffers, metadata}\n            msg_handler(msg);\n            return messages.next().then(processIteratorResult);\n          }\n          return messages.next().then(processIteratorResult);\n        })\n      }\n    }\n\n    JupyterCommManager.prototype.get_client_comm = function(plot_id, comm_id, msg_handler) {\n      if (comm_id in window.PyViz.comms) {\n        return window.PyViz.comms[comm_id];\n      } else if (window.comm_manager || ((window.Jupyter !== undefined) && (Jupyter.notebook.kernel != null))) {\n        var comm_manager = window.comm_manager || Jupyter.notebook.kernel.comm_manager;\n        var comm = comm_manager.new_comm(comm_id, {}, {}, {}, comm_id);\n        if (msg_handler) {\n          comm.on_msg(msg_handler);\n        }\n      } else if ((plot_id in window.PyViz.kernels) && (window.PyViz.kernels[plot_id])) {\n        var comm = window.PyViz.kernels[plot_id].connectToComm(comm_id);\n        comm.open();\n        if (msg_handler) {\n          comm.onMsg = msg_handler;\n        }\n      } else if (typeof google != 'undefined' && google.colab.kernel != null) {\n        var comm_promise = google.colab.kernel.comms.open(comm_id)\n        comm_promise.then((comm) => {\n          window.PyViz.comms[comm_id] = comm;\n          if (msg_handler) {\n            var messages = comm.messages[Symbol.asyncIterator]();\n            function processIteratorResult(result) {\n              var message = result.value;\n              var content = {data: message.data};\n              var metadata = message.metadata || {comm_id};\n              var msg = {content, metadata}\n              msg_handler(msg);\n              return messages.next().then(processIteratorResult);\n            }\n            return messages.next().then(processIteratorResult);\n          }\n        }) \n        var sendClosure = (data, metadata, buffers, disposeOnDone) => {\n          return comm_promise.then((comm) => {\n            comm.send(data, metadata, buffers, disposeOnDone);\n          });\n        };\n        var comm = {\n          send: sendClosure\n        };\n      }\n      window.PyViz.comms[comm_id] = comm;\n      return comm;\n    }\n    window.PyViz.comm_manager = new JupyterCommManager();\n    \n\n\nvar JS_MIME_TYPE = 'application/javascript';\nvar HTML_MIME_TYPE = 'text/html';\nvar EXEC_MIME_TYPE = 'application/vnd.holoviews_exec.v0+json';\nvar CLASS_NAME = 'output';\n\n/**\n * Render data to the DOM node\n */\nfunction render(props, node) {\n  var div = document.createElement(\"div\");\n  var script = document.createElement(\"script\");\n  node.appendChild(div);\n  node.appendChild(script);\n}\n\n/**\n * Handle when a new output is added\n */\nfunction handle_add_output(event, handle) {\n  var output_area = handle.output_area;\n  var output = handle.output;\n  if ((output.data == undefined) || (!output.data.hasOwnProperty(EXEC_MIME_TYPE))) {\n    return\n  }\n  var id = output.metadata[EXEC_MIME_TYPE][\"id\"];\n  var toinsert = output_area.element.find(\".\" + CLASS_NAME.split(' ')[0]);\n  if (id !== undefined) {\n    var nchildren = toinsert.length;\n    var html_node = toinsert[nchildren-1].children[0];\n    html_node.innerHTML = output.data[HTML_MIME_TYPE];\n    var scripts = [];\n    var nodelist = html_node.querySelectorAll(\"script\");\n    for (var i in nodelist) {\n      if (nodelist.hasOwnProperty(i)) {\n        scripts.push(nodelist[i])\n      }\n    }\n\n    scripts.forEach( function (oldScript) {\n      var newScript = document.createElement(\"script\");\n      var attrs = [];\n      var nodemap = oldScript.attributes;\n      for (var j in nodemap) {\n        if (nodemap.hasOwnProperty(j)) {\n          attrs.push(nodemap[j])\n        }\n      }\n      attrs.forEach(function(attr) { newScript.setAttribute(attr.name, attr.value) });\n      newScript.appendChild(document.createTextNode(oldScript.innerHTML));\n      oldScript.parentNode.replaceChild(newScript, oldScript);\n    });\n    if (JS_MIME_TYPE in output.data) {\n      toinsert[nchildren-1].children[1].textContent = output.data[JS_MIME_TYPE];\n    }\n    output_area._hv_plot_id = id;\n    if ((window.Bokeh !== undefined) && (id in Bokeh.index)) {\n      window.PyViz.plot_index[id] = Bokeh.index[id];\n    } else {\n      window.PyViz.plot_index[id] = null;\n    }\n  } else if (output.metadata[EXEC_MIME_TYPE][\"server_id\"] !== undefined) {\n    var bk_div = document.createElement(\"div\");\n    bk_div.innerHTML = output.data[HTML_MIME_TYPE];\n    var script_attrs = bk_div.children[0].attributes;\n    for (var i = 0; i < script_attrs.length; i++) {\n      toinsert[toinsert.length - 1].childNodes[1].setAttribute(script_attrs[i].name, script_attrs[i].value);\n    }\n    // store reference to server id on output_area\n    output_area._bokeh_server_id = output.metadata[EXEC_MIME_TYPE][\"server_id\"];\n  }\n}\n\n/**\n * Handle when an output is cleared or removed\n */\nfunction handle_clear_output(event, handle) {\n  var id = handle.cell.output_area._hv_plot_id;\n  var server_id = handle.cell.output_area._bokeh_server_id;\n  if (((id === undefined) || !(id in PyViz.plot_index)) && (server_id !== undefined)) { return; }\n  var comm = window.PyViz.comm_manager.get_client_comm(\"hv-extension-comm\", \"hv-extension-comm\", function () {});\n  if (server_id !== null) {\n    comm.send({event_type: 'server_delete', 'id': server_id});\n    return;\n  } else if (comm !== null) {\n    comm.send({event_type: 'delete', 'id': id});\n  }\n  delete PyViz.plot_index[id];\n  if ((window.Bokeh !== undefined) & (id in window.Bokeh.index)) {\n    var doc = window.Bokeh.index[id].model.document\n    doc.clear();\n    const i = window.Bokeh.documents.indexOf(doc);\n    if (i > -1) {\n      window.Bokeh.documents.splice(i, 1);\n    }\n  }\n}\n\n/**\n * Handle kernel restart event\n */\nfunction handle_kernel_cleanup(event, handle) {\n  delete PyViz.comms[\"hv-extension-comm\"];\n  window.PyViz.plot_index = {}\n}\n\n/**\n * Handle update_display_data messages\n */\nfunction handle_update_output(event, handle) {\n  handle_clear_output(event, {cell: {output_area: handle.output_area}})\n  handle_add_output(event, handle)\n}\n\nfunction register_renderer(events, OutputArea) {\n  function append_mime(data, metadata, element) {\n    // create a DOM node to render to\n    var toinsert = this.create_output_subarea(\n    metadata,\n    CLASS_NAME,\n    EXEC_MIME_TYPE\n    );\n    this.keyboard_manager.register_events(toinsert);\n    // Render to node\n    var props = {data: data, metadata: metadata[EXEC_MIME_TYPE]};\n    render(props, toinsert[0]);\n    element.append(toinsert);\n    return toinsert\n  }\n\n  events.on('output_added.OutputArea', handle_add_output);\n  events.on('output_updated.OutputArea', handle_update_output);\n  events.on('clear_output.CodeCell', handle_clear_output);\n  events.on('delete.Cell', handle_clear_output);\n  events.on('kernel_ready.Kernel', handle_kernel_cleanup);\n\n  OutputArea.prototype.register_mime_type(EXEC_MIME_TYPE, append_mime, {\n    safe: true,\n    index: 0\n  });\n}\n\nif (window.Jupyter !== undefined) {\n  try {\n    var events = require('base/js/events');\n    var OutputArea = require('notebook/js/outputarea').OutputArea;\n    if (OutputArea.prototype.mime_types().indexOf(EXEC_MIME_TYPE) == -1) {\n      register_renderer(events, OutputArea);\n    }\n  } catch(err) {\n  }\n}\n",
            "application/vnd.holoviews_load.v0+json": ""
          },
          "metadata": {},
          "output_type": "display_data"
        },
        {
          "data": {
            "text/html": [
              "<style>.bk-root, .bk-root .bk:before, .bk-root .bk:after {\n",
              "  font-family: var(--jp-ui-font-size1);\n",
              "  font-size: var(--jp-ui-font-size1);\n",
              "  color: var(--jp-ui-font-color1);\n",
              "}\n",
              "</style>"
            ]
          },
          "metadata": {},
          "output_type": "display_data"
        },
        {
          "data": {
            "application/vnd.jupyter.widget-view+json": {
              "model_id": "62e974ca600e4714afd273f20b10321d",
              "version_major": 2,
              "version_minor": 0
            },
            "text/plain": [
              "BokehModel(combine_events=True, render_bundle={'docs_json': {'c4cc9f3f-617f-4fa0-a997-85b81bea1eab': {'defs': …"
            ]
          },
          "metadata": {},
          "output_type": "display_data"
        },
        {
          "data": {
            "text/html": [
              "<div style=\"display: none\"></div>"
            ],
            "text/plain": [
              "Column\n",
              "    [0] Markdown(str)\n",
              "    [1] Row\n",
              "        [0] AutocompleteInput(case_sensitive=False, name='Name', options=['Tamsin Greig', ...], placeholder='Enter name...')\n",
              "        [1] Select(name='Type', options=['movie', 'show'], value='movie', width=200)\n",
              "    [2] ParamFunction(function)"
            ]
          },
          "execution_count": 6,
          "metadata": {},
          "output_type": "execute_result"
        }
      ],
      "source": [
        "import altair as alt\n",
        "import pandas as pd\n",
        "import panel as pn\n",
        "import matplotlib.pyplot as plt\n",
        "import numpy as np\n",
        "import ipywidgets as widgets\n",
        "from altair.expr import datum\n",
        "\n",
        "pn.extension(\"material\")  # apply the 'elegant' theme\n",
        "\n",
        "# max row > 5000\n",
        "alt.data_transformers.disable_max_rows()\n",
        "\n",
        "# Load dataset\n",
        "df_actor_info = pd.read_csv('/Users/flickr-xc/Library/Mobile Documents/com~apple~CloudDocs/DSBA Courses/Data Visualization/assignment 3/DV/df_actor_info.csv')\n",
        "df_actor_detail = pd.read_csv('/Users/flickr-xc/Library/Mobile Documents/com~apple~CloudDocs/DSBA Courses/Data Visualization/assignment 3/DV/df_actor_detail.csv')\n",
        "sorted_cooperation_df = pd.read_csv('/Users/flickr-xc/Library/Mobile Documents/com~apple~CloudDocs/DSBA Courses/Data Visualization/assignment 3/DV/sorted_cooperation_df.csv')\n",
        "\n",
        "# define the widgets\n",
        "name_input = pn.widgets.AutocompleteInput(name='Name', options=list(df_actor_info['name'].unique()), case_sensitive=False, placeholder='Enter name...')\n",
        "type_input = pn.widgets.Select(name='Type', options=['movie', 'show'], value='movie', width=200)\n",
        "\n",
        "# define the function that updates the plot\n",
        "def update_plot(name, type):\n",
        "    filtered_df = df_actor_info[(df_actor_info['name'].str.lower() == name.lower()) & (df_actor_info['type'].str.lower() == type)]\n",
        "\n",
        "    if not filtered_df.empty:\n",
        "        total_votes = int(filtered_df['total_votes'].iloc[0])\n",
        "        average_score = round(filtered_df['average_score'].iloc[0], 2)\n",
        "        total_numbers = filtered_df['total_numbers'].iloc[0]\n",
        "\n",
        "        total_votes_pane = pn.pane.HTML(\n",
        "          f'<h2 style=\"color:#0077C0;font-size:40px;font-family: Verdana\">{total_votes:,}</h2><br><h4 style=\"color:#0077C0;font-family: Verdana\">Total Votes</h4>',\n",
        "          margin=(0, 0, 20, 0))\n",
        "        average_score_pane = pn.pane.HTML(\n",
        "          f'<h2 style=\"color:#FFB000;font-size:40px;font-family: Verdana\">{average_score}</h2><br><h4 style=\"color:#FFB000;font-family: Verdana\">Average Score</h4>',\n",
        "          margin=(0, 20, 20, 0))\n",
        "        total_numbers_pane = pn.pane.HTML(\n",
        "          f'<h2 style=\"color:#DC267F;font-size:40px;font-family: Verdana\">{total_numbers}</h2><br><h4 style=\"color:#DC267F;font-family: Verdana\">Number of Works</h4>',\n",
        "          margin=(0, 20, 20, 0))\n",
        "\n",
        "        result = pn.Row(pn.Column(total_votes_pane, average_score_pane, total_numbers_pane),\n",
        "                        sizing_mode='stretch_both', margin=(0, 20))\n",
        "\n",
        "        return result\n",
        "        \n",
        "    else:\n",
        "        return pn.pane.HTML('<h3>No data found.</h3>')\n",
        "\n",
        "# define the function that updates the table\n",
        "def update_table(name, type):\n",
        "    filtered_df = df_actor_detail[(df_actor_detail['name'].str.lower() == name.lower()) & (df_actor_detail['type'].str.lower() == type)]\n",
        "\n",
        "    if not filtered_df.empty:\n",
        "        table_rows = []\n",
        "        for index, row in filtered_df.iterrows():\n",
        "            title = row['title']\n",
        "            type = row['type'].capitalize()\n",
        "            genres = row['genres']\n",
        "            release_year = row['release_year']\n",
        "            imdb_score = row['imdb_score']\n",
        "            imdb_votes = int(row['imdb_votes'])\n",
        "            row_html = f\"\"\"\n",
        "            <div style=\"background-color:#F0F8FF;border: 2px solid #E65100;border-radius:5px;padding:10px;margin-bottom:10px\">\n",
        "                <h3 style=\"color:#E65100;font-family: Verdana\">{title}</h3>\n",
        "                <table style=\"margin-left:10px\">\n",
        "                    <tr>\n",
        "                        <td style=\"font-family: Verdana;font-size:10px\"><b>Type:</b></td>\n",
        "                        <td style=\"font-family: Verdana;font-size:10px\">{type}</td>\n",
        "                    </tr>\n",
        "                    <tr>\n",
        "                        <td style=\"font-family: Verdana;font-size:10px\"><b>Genre:</b></td>\n",
        "                        <td style=\"font-family: Verdana;font-size:10px\">{genres}</td>\n",
        "                    </tr>\n",
        "                    <tr>\n",
        "                        <td style=\"font-family: Verdana;font-size:10px\"><b>Year of Release:</b></td>\n",
        "                        <td style=\"font-family: Verdana;font-size:10px\">{release_year}</td>\n",
        "                    </tr>\n",
        "                    <tr>\n",
        "                        <td style=\"font-family: Verdana;font-size:10px\"><b>IMDB Score:</b></td>\n",
        "                        <td style=\"font-family: Verdana;font-size:10px\">{imdb_score}</td>\n",
        "                    </tr>\n",
        "                    <tr>\n",
        "                        <td style=\"font-family: Verdana;font-size:10px\"><b>IMDB Votes:</b></td>\n",
        "                        <td style=\"font-family: Verdana;font-size:10px\">{imdb_votes:,}</td>\n",
        "                    </tr>\n",
        "                </table>\n",
        "            </div>\n",
        "            \"\"\"\n",
        "\n",
        "            table_rows.append(row_html)\n",
        "\n",
        "        result = pn.Column(*table_rows, sizing_mode='stretch_both', margin=(0, 20))\n",
        "        return result\n",
        "        \n",
        "    else:\n",
        "        return pn.pane.HTML('<h3>No data found.</h3>')\n",
        "\n",
        "\n",
        "# Set the default theme for Altair charts\n",
        "alt.themes.enable('fivethirtyeight')\n",
        "# Define a custom CSS style for the text pane\n",
        "text_style = 'font-family: Arial; font-size: 14px; color: #333; margin: 5px 0;'\n",
        "\n",
        "def update_cooperate(name, type):\n",
        "    filtered_df = sorted_cooperation_df[(sorted_cooperation_df['name_x'].str.lower() == name.lower())]\n",
        "\n",
        "    if not filtered_df.empty:\n",
        "        # Filter the top 10 partners with the largest number of cooperations\n",
        "        df_top_10 = filtered_df.nlargest(20, 'cooperations')\n",
        "\n",
        "        # Define the color scheme for the bars\n",
        "        color_scale = alt.Scale(range=['#E50914', '#F5F5F5', '#B81D24', '#D81E26', '#F0343F', '#E50914', '#F9AA33', '#F5F5F5', '#B81D24', '#D81E26']\n",
        ")\n",
        "\n",
        "        # define x_axis\n",
        "        x_axis = alt.Axis(\n",
        "        title='Number of Cooperations',\n",
        "        labelExpr=\"datum.label == floor(datum.label) ? format(datum.label, 'd') : ''\",\n",
        "        grid=False,\n",
        "        tickCount=6\n",
        "        )\n",
        "        # Create the bar chart using Altair\n",
        "        bars = alt.Chart(df_top_10).mark_bar(size=15, opacity=0.7).encode(\n",
        "            x=alt.X('cooperations', title='Number of Cooperations', axis=x_axis),\n",
        "            y=alt.Y('name_y', title='Cooperation Partner', sort=alt.EncodingSortField(field='cooperations', op='sum', order='descending')),\n",
        "            color=alt.Color('cooperations', scale=color_scale, legend=None),\n",
        "            tooltip=[alt.Tooltip('name_y:N', title='Partner Name'), alt.Tooltip('cooperations', title='Number of Cooperations')]\n",
        "        ).properties(\n",
        "            height=400,\n",
        "            width=600,\n",
        "            title=f'Cooperation Partners of {name.title()}',\n",
        "            background='#f5f5f5'\n",
        "        ).interactive()\n",
        "\n",
        "        text_pane = pn.pane.HTML(margin=(20, 10), style={'background-color': '#f9f9f9', 'border': '1px solid #cccccc', 'border-radius': '5px', 'padding': '10px'})\n",
        "\n",
        "        # Create the layout and return it\n",
        "        layout = pn.Row(bars, text_pane, margin=(20, 20), background='#f9f9f9')\n",
        "        return layout\n",
        "        \n",
        "    else:\n",
        "        return pn.pane.HTML('<h3>No data found.</h3>')\n",
        "\n",
        "    \n",
        "# define the panel app\n",
        "@pn.depends(name_input.param.value, type_input.param.value)\n",
        "def panel_app(name, type):\n",
        "    if name and type:\n",
        "        # create the two panes side by side using Tabs\n",
        "        return pn.Tabs(('Overview', update_plot(name, type)), \\\n",
        "                       ('Into Detail', update_table(name, type)),\\\n",
        "                       ('Best Partners',update_cooperate(name, type)))\n",
        "    else:\n",
        "        return pn.pane.HTML('<h3>Please select name and type.</h3>')\n",
        "\n",
        "\n",
        "# show the panel app\n",
        "layout4 =pn.Column(\n",
        "    '## Actors On Netflix',\n",
        "    pn.Row(name_input, type_input),\n",
        "    panel_app\n",
        ")\n",
        "\n",
        "layout4"
      ]
    },
    {
      "cell_type": "markdown",
      "metadata": {
        "id": "yzWbxOyi1HbO"
      },
      "source": [
        "## Final Layout"
      ]
    },
    {
      "cell_type": "code",
      "execution_count": 7,
      "metadata": {
        "colab": {
          "base_uri": "https://localhost:8080/",
          "height": 1000
        },
        "id": "FdS91y9K1Ei4",
        "outputId": "9357793e-a9a8-4d4d-d44e-a5eaebf7c8e5"
      },
      "outputs": [
        {
          "data": {
            "application/vnd.jupyter.widget-view+json": {
              "model_id": "87b1e6689a4a4b828d6d5dd5759f25a1",
              "version_major": 2,
              "version_minor": 0
            },
            "text/plain": [
              "BokehModel(combine_events=True, render_bundle={'docs_json': {'e96fb7ba-52bb-4369-8481-c1b36a6c01f1': {'defs': …"
            ]
          },
          "metadata": {},
          "output_type": "display_data"
        },
        {
          "data": {
            "text/html": [
              "<div style=\"display: none\"></div>"
            ],
            "text/plain": [
              "Column\n",
              "    [0] Markdown(str)\n",
              "    [1] Column\n",
              "        [0] Markdown(str)\n",
              "        [1] Row\n",
              "            [0] Select(options=['MOVIE', 'SHOW'], value='MOVIE', width=150)\n",
              "            [1] IntSlider(end=2022, name='Year', start=2000, value=2020, width=850)\n",
              "        [2] Vega(LayerChart, selection=Selection)\n",
              "    [2] Column\n",
              "        [0] Markdown(str)\n",
              "        [1] Select(options=['MOVIE', 'SHOW'], value='MOVIE', width=150)\n",
              "        [2] Column\n",
              "            [0] Row\n",
              "                [0] Vega(Chart, debounce=100, selection=Selection)\n",
              "                [1] ParamFunction(function)\n",
              "    [3] Column\n",
              "        [0] Markdown(str)\n",
              "        [1] Row\n",
              "            [0] Vega(Chart, selection=Selection)\n",
              "            [1] Vega(Chart, selection=Selection)\n",
              "    [4] Column\n",
              "        [0] Markdown(str)\n",
              "        [1] Row\n",
              "            [0] AutocompleteInput(case_sensitive=False, name='Name', options=['Tamsin Greig', ...], placeholder='Enter name...', value='Brad Pitt', value_input='brad p')\n",
              "            [1] Select(name='Type', options=['movie', 'show'], value='movie', width=200)\n",
              "        [2] ParamFunction(function)"
            ]
          },
          "execution_count": 7,
          "metadata": {},
          "output_type": "execute_result"
        }
      ],
      "source": [
        "layout_final = pn.Column(\n",
        "    '# Netflix',\n",
        "    layout1,\n",
        "    layout2,\n",
        "    layout3,\n",
        "    layout4\n",
        "    )\n",
        "\n",
        "layout_final.servable()\n",
        "\n"
      ]
    },
    {
      "cell_type": "code",
      "execution_count": 8,
      "metadata": {
        "id": "31b4EI6tc-FC"
      },
      "outputs": [],
      "source": [
        "\n",
        "# Save the app as an HTML file\n",
        "layout_final.save(\"Netflix_app.html\")\n"
      ]
    }
  ],
  "metadata": {
    "colab": {
      "collapsed_sections": [
        "b8nNSHD3l5nj",
        "bwYDLs0kl0oo"
      ],
      "provenance": []
    },
    "kernelspec": {
      "display_name": "Python 3",
      "name": "python3"
    },
    "language_info": {
      "codemirror_mode": {
        "name": "ipython",
        "version": 3
      },
      "file_extension": ".py",
      "mimetype": "text/x-python",
      "name": "python",
      "nbconvert_exporter": "python",
      "pygments_lexer": "ipython3",
      "version": "3.9.15"
    }
  },
  "nbformat": 4,
  "nbformat_minor": 0
}
